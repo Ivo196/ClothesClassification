{
  "cells": [
    {
      "cell_type": "markdown",
      "metadata": {
        "id": "iiDzBoKGwmMZ"
      },
      "source": [
        "# REDES NEURONALES\n",
        "\n",
        "---\n",
        "\n",
        "\n",
        "\n",
        "En esta actividad vamos a utilizar una red neuronal para clasificar imágenes de prendas de ropa. Para ello, utilizaremos Keras con TensorFlow.\n",
        "\n",
        "El dataset a utilizar es Fashion MNIST, un problema sencillo con imágenes pequeñas de ropa, pero más interesante que el dataset de MNIST. Puedes consultar más información sobre el dataset en [este enlace](https://github.com/zalandoresearch/fashion-mnist).\n",
        "\n",
        "El código utilizado para contestar tiene que quedar claramente reflejado en el Notebook. Puedes crear nuevas celdas si así lo deseas para estructurar tu código y sus salidas. A la hora de entregar el notebook, **asegúrate de que los resultados de ejecutar tu código han quedado guardados**. Por ejemplo, a la hora de entrenar una red neuronal tiene que verse claramente un log de los resultados de cada epoch."
      ]
    },
    {
      "cell_type": "code",
      "execution_count": 1,
      "metadata": {
        "id": "gSHr268SwmMa"
      },
      "outputs": [],
      "source": [
        "import keras\n",
        "from keras.datasets import fashion_mnist\n",
        "from keras.models import Sequential\n",
        "from keras.layers import Dense, Flatten\n",
        "import tensorflow as tf\n",
        "\n",
        "import matplotlib.pyplot as plt"
      ]
    },
    {
      "cell_type": "markdown",
      "metadata": {
        "id": "zScMKU2OKSPD"
      },
      "source": [
        "En primer lugar vamos a importar el dataset Fashion MNIST (recordad que este es uno de los dataset de entranamiento que estan guardados en keras) que es el que vamos a utilizar en esta actividad:"
      ]
    },
    {
      "cell_type": "code",
      "execution_count": 2,
      "metadata": {
        "id": "4voG2hxxG4h3"
      },
      "outputs": [],
      "source": [
        "mnist = tf.keras.datasets.fashion_mnist"
      ]
    },
    {
      "cell_type": "markdown",
      "metadata": {
        "id": "JphLsCvgKrzb"
      },
      "source": [
        "Llamar a **load_data** en este dataset nos dará dos conjuntos de dos listas, estos serán los valores de entrenamiento y prueba para los gráficos que contienen las prendas de vestir y sus etiquetas.\n",
        "\n",
        "Nota: Aunque en esta actividad lo veis de esta forma, también lo vais a poder encontrar como 4 variables de esta forma: training_images, training_labels, test_images, test_labels = mnist.load_data()"
      ]
    },
    {
      "cell_type": "code",
      "execution_count": 3,
      "metadata": {
        "colab": {
          "base_uri": "https://localhost:8080/"
        },
        "id": "1muD4PHEG4h6",
        "outputId": "2f6beb46-3176-4adf-a64b-6dab9ea81bbe"
      },
      "outputs": [],
      "source": [
        "(training_images, training_labels), (test_images, test_labels) = mnist.load_data()"
      ]
    },
    {
      "cell_type": "markdown",
      "metadata": {
        "id": "ZWGpJqVVLT3Y"
      },
      "source": [
        "Antes de continuar vamos a dar un vistazo a nuestro dataset, para ello vamos a ver una imagen de entrenamiento y su etiqueta o clase."
      ]
    },
    {
      "cell_type": "code",
      "execution_count": 4,
      "metadata": {
        "colab": {
          "base_uri": "https://localhost:8080/",
          "height": 785
        },
        "id": "t5a5PlswG4h8",
        "outputId": "2edeb68d-fcba-4f20-c49a-f80a5c51b012"
      },
      "outputs": [
        {
          "name": "stdout",
          "output_type": "stream",
          "text": [
            "9\n",
            "[[  0   0   0   0   0   0   0   0   0   0   0   0   0   0   0   0   0   0   0   0   0   0   0   0   0   0   0   0]\n",
            " [  0   0   0   0   0   0   0   0   0   0   0   0   0   0   0   0   0   0   0   0   0   0   0   0   0   0   0   0]\n",
            " [  0   0   0   0   0   0   0   0   0   0   0   0   0   0   0   0   0   0   0   0   0   0   0   0   0   0   0   0]\n",
            " [  0   0   0   0   0   0   0   0   0   0   0   0   1   0   0  13  73   0   0   1   4   0   0   0   0   1   1   0]\n",
            " [  0   0   0   0   0   0   0   0   0   0   0   0   3   0  36 136 127  62  54   0   0   0   1   3   4   0   0   3]\n",
            " [  0   0   0   0   0   0   0   0   0   0   0   0   6   0 102 204 176 134 144 123  23   0   0   0   0  12  10   0]\n",
            " [  0   0   0   0   0   0   0   0   0   0   0   0   0   0 155 236 207 178 107 156 161 109  64  23  77 130  72  15]\n",
            " [  0   0   0   0   0   0   0   0   0   0   0   1   0  69 207 223 218 216 216 163 127 121 122 146 141  88 172  66]\n",
            " [  0   0   0   0   0   0   0   0   0   1   1   1   0 200 232 232 233 229 223 223 215 213 164 127 123 196 229   0]\n",
            " [  0   0   0   0   0   0   0   0   0   0   0   0   0 183 225 216 223 228 235 227 224 222 224 221 223 245 173   0]\n",
            " [  0   0   0   0   0   0   0   0   0   0   0   0   0 193 228 218 213 198 180 212 210 211 213 223 220 243 202   0]\n",
            " [  0   0   0   0   0   0   0   0   0   1   3   0  12 219 220 212 218 192 169 227 208 218 224 212 226 197 209  52]\n",
            " [  0   0   0   0   0   0   0   0   0   0   6   0  99 244 222 220 218 203 198 221 215 213 222 220 245 119 167  56]\n",
            " [  0   0   0   0   0   0   0   0   0   4   0   0  55 236 228 230 228 240 232 213 218 223 234 217 217 209  92   0]\n",
            " [  0   0   1   4   6   7   2   0   0   0   0   0 237 226 217 223 222 219 222 221 216 223 229 215 218 255  77   0]\n",
            " [  0   3   0   0   0   0   0   0   0  62 145 204 228 207 213 221 218 208 211 218 224 223 219 215 224 244 159   0]\n",
            " [  0   0   0   0  18  44  82 107 189 228 220 222 217 226 200 205 211 230 224 234 176 188 250 248 233 238 215   0]\n",
            " [  0  57 187 208 224 221 224 208 204 214 208 209 200 159 245 193 206 223 255 255 221 234 221 211 220 232 246   0]\n",
            " [  3 202 228 224 221 211 211 214 205 205 205 220 240  80 150 255 229 221 188 154 191 210 204 209 222 228 225   0]\n",
            " [ 98 233 198 210 222 229 229 234 249 220 194 215 217 241  65  73 106 117 168 219 221 215 217 223 223 224 229  29]\n",
            " [ 75 204 212 204 193 205 211 225 216 185 197 206 198 213 240 195 227 245 239 223 218 212 209 222 220 221 230  67]\n",
            " [ 48 203 183 194 213 197 185 190 194 192 202 214 219 221 220 236 225 216 199 206 186 181 177 172 181 205 206 115]\n",
            " [  0 122 219 193 179 171 183 196 204 210 213 207 211 210 200 196 194 191 195 191 198 192 176 156 167 177 210  92]\n",
            " [  0   0  74 189 212 191 175 172 175 181 185 188 189 188 193 198 204 209 210 210 211 188 188 194 192 216 170   0]\n",
            " [  2   0   0   0  66 200 222 237 239 242 246 243 244 221 220 193 191 179 182 182 181 176 166 168  99  58   0   0]\n",
            " [  0   0   0   0   0   0   0  40  61  44  72  41  35   0   0   0   0   0   0   0   0   0   0   0   0   0   0   0]\n",
            " [  0   0   0   0   0   0   0   0   0   0   0   0   0   0   0   0   0   0   0   0   0   0   0   0   0   0   0   0]\n",
            " [  0   0   0   0   0   0   0   0   0   0   0   0   0   0   0   0   0   0   0   0   0   0   0   0   0   0   0   0]]\n"
          ]
        },
        {
          "data": {
            "image/png": "[encoded data removed]",
            "text/plain": [
              "<Figure size 640x480 with 1 Axes>"
            ]
          },
          "metadata": {},
          "output_type": "display_data"
        }
      ],
      "source": [
        "import numpy as np\n",
        "np.set_printoptions(linewidth=200)\n",
        "import matplotlib.pyplot as plt\n",
        "plt.imshow(training_images[0], cmap=\"gray\") # recordad que siempre es preferible trabajar en blanco y negro\n",
        "\n",
        "print(training_labels[0])\n",
        "print(training_images[0])"
      ]
    },
    {
      "cell_type": "markdown",
      "metadata": {
        "id": "WCJvZx3MLucY"
      },
      "source": [
        "Habreis notado que todos los valores numericos están entre 0 y 255. Si estamos entrenando una red neuronal, una buena practica es transformar todos los valores entre 0 y 1, un proceso llamado \"normalización\" y afortunadamente en Python es fácil normalizar una lista. Lo puedes hacer de esta manera:"
      ]
    },
    {
      "cell_type": "code",
      "execution_count": 5,
      "metadata": {
        "id": "tojL1BmjG4h_"
      },
      "outputs": [],
      "source": [
        "training_images  = training_images / 255.0\n",
        "test_images = test_images / 255.0"
      ]
    },
    {
      "cell_type": "markdown",
      "metadata": {
        "id": "BaqXlSMBwmMg"
      },
      "source": [
        "## 1. Información sobre el dataset"
      ]
    },
    {
      "cell_type": "markdown",
      "metadata": {
        "id": "e0aer8ZZwmMh"
      },
      "source": [
        "Una vez tenemos los datos cargados en memoria, vamos a obtener información sobre los mismos."
      ]
    },
    {
      "cell_type": "markdown",
      "metadata": {
        "id": "E-im9PnEwmMh"
      },
      "source": [
        "**Pregunta 1.1 *(0.25 puntos)*** ¿Cuántas imágenes hay de *training* y de *test*? ¿Qué tamaño tienen las imágenes?"
      ]
    },
    {
      "cell_type": "code",
      "execution_count": 6,
      "metadata": {
        "id": "lvP0Y4SCwmMi"
      },
      "outputs": [
        {
          "name": "stdout",
          "output_type": "stream",
          "text": [
            "Conjunto de entrenamiento (60000, 28, 28)\n",
            "conjunto de Test (10000, 28, 28)\n"
          ]
        }
      ],
      "source": [
        "### Tu código aquí ###\n",
        "print(\"Conjunto de entrenamiento\",training_images.shape)\n",
        "print(\"conjunto de Test\",test_images.shape)\n"
      ]
    },
    {
      "cell_type": "markdown",
      "metadata": {
        "id": "Xwp5ljFKwmMj"
      },
      "source": [
        "- Podemos observar que en el conjunto de entrenamiento tenemos 60000 imagenes, para el entrenamiento con un tamaño de 28 x 28 pixeles.\n",
        "\n",
        "- Por otro lado en el conjunto de test, tenemos 10000 imagenes para el conjunto de test, de 28x28 pixeles."
      ]
    },
    {
      "cell_type": "markdown",
      "metadata": {
        "id": "F2LsvfHOwmMk"
      },
      "source": [
        "**Pregunta 1.2 *(0.25 puntos)*** Realizar una exploración de las variables que contienen los datos. Describir en qué consiste un example del dataset (qué información se guarda en cada imagen) y describir qué contiene la información en y."
      ]
    },
    {
      "cell_type": "code",
      "execution_count": 7,
      "metadata": {
        "id": "3W5rzaGxwmMk"
      },
      "outputs": [
        {
          "data": {
            "text/plain": [
              "0"
            ]
          },
          "execution_count": 7,
          "metadata": {},
          "output_type": "execute_result"
        },
        {
          "data": {
            "image/png": "[encoded data removed]",
            "text/plain": [
              "<Figure size 640x480 with 1 Axes>"
            ]
          },
          "metadata": {},
          "output_type": "display_data"
        }
      ],
      "source": [
        "image = 1\n",
        "\n",
        "plt.imshow(training_images[image], cmap=\"gray\")\n",
        "training_labels[image]"
      ]
    },
    {
      "cell_type": "markdown",
      "metadata": {
        "id": "zaEWKFyvwmMm"
      },
      "source": [
        "Observamos que en el dataset, cada imagen es de una tamañano de 28x28 pixeles, de los cuales hay 10 clases distintas. Tiene su etiqueta correspondiente, es decir, por cada imagen con su label donde el número correspondiente a la categoría de prenda de vestir a la cual corresponde. "
      ]
    },
    {
      "cell_type": "markdown",
      "metadata": {
        "id": "dI3IAhOQ8zHi"
      },
      "source": [
        "## 2. Creación del Modelo"
      ]
    },
    {
      "cell_type": "markdown",
      "metadata": {
        "id": "yYUWWsszMAKt"
      },
      "source": [
        "Ahora vamos a definir el modelo, pero antes vamos a repasar algunos comandos y conceptos muy útiles:\n",
        "* **Sequential**: Eso define una SECUENCIA de capas en la red neuronal\n",
        "* **Dense**: Añade una capa de neuronas\n",
        "* **Flatten**: ¿Recuerdas cómo eran las imágenes cuando las imprimiste para poder verlas? Un cuadrado, Flatten toma ese cuadrado y lo convierte en un vector de una dimensión.\n",
        "\n",
        "Cada capa de neuronas necesita una función de activación. Normalmente se usa la función relu en las capas intermedias y softmax en la ultima capa (en problemas de clasificación de más de dos items)\n",
        "* **Relu** significa que \"Si X>0 devuelve X, si no, devuelve 0\", así que lo que hace es pasar sólo valores 0 o mayores a la siguiente capa de la red.\n",
        "* **Softmax** toma un conjunto de valores, y escoge el más grande."
      ]
    },
    {
      "cell_type": "markdown",
      "metadata": {
        "id": "QgBW1yE2MwPp"
      },
      "source": [
        " **Pregunta 2.1 (2 puntos)**. Utilizando Keras, y preparando los datos de X e y como fuera necesario, define y entrena una red neuronal que sea capaz de clasificar imágenes de Fashion MNIST con las siguientes características:\n",
        "\n",
        "* Una hidden layer de tamaños 128, utilizando unidades sigmoid\n",
        "Optimizador Adam.\n",
        "* Durante el entrenamiento, la red tiene que mostrar resultados de loss y accuracy por cada epoch.\n",
        "* La red debe entrenar durante 10 epochs y batch size de 64.\n",
        "* La última capa debe de ser una capa softmax.\n",
        "* Tu red tendría que ser capaz de superar fácilmente 80% de accuracy."
      ]
    },
    {
      "cell_type": "code",
      "execution_count": 8,
      "metadata": {
        "id": "aTaD2QXIORwu"
      },
      "outputs": [
        {
          "name": "stdout",
          "output_type": "stream",
          "text": [
            "Epoch 1/10\n",
            "  1/938 [..............................] - ETA: 2:07 - loss: 2.8201 - accuracy: 0.0781"
          ]
        },
        {
          "name": "stderr",
          "output_type": "stream",
          "text": [
            "2024-05-07 18:11:24.289496: W tensorflow/tsl/platform/profile_utils/cpu_utils.cc:128] Failed to get CPU frequency: 0 Hz\n"
          ]
        },
        {
          "name": "stdout",
          "output_type": "stream",
          "text": [
            "938/938 [==============================] - 1s 743us/step - loss: 0.5955 - accuracy: 0.8029 - val_loss: 0.4608 - val_accuracy: 0.8367\n",
            "Epoch 2/10\n",
            "938/938 [==============================] - 1s 624us/step - loss: 0.4094 - accuracy: 0.8549 - val_loss: 0.4178 - val_accuracy: 0.8486\n",
            "Epoch 3/10\n",
            "938/938 [==============================] - 1s 617us/step - loss: 0.3702 - accuracy: 0.8680 - val_loss: 0.3909 - val_accuracy: 0.8609\n",
            "Epoch 4/10\n",
            "938/938 [==============================] - 1s 618us/step - loss: 0.3485 - accuracy: 0.8749 - val_loss: 0.3740 - val_accuracy: 0.8662\n",
            "Epoch 5/10\n",
            "938/938 [==============================] - 1s 624us/step - loss: 0.3305 - accuracy: 0.8801 - val_loss: 0.3647 - val_accuracy: 0.8700\n",
            "Epoch 6/10\n",
            "938/938 [==============================] - 1s 629us/step - loss: 0.3159 - accuracy: 0.8859 - val_loss: 0.3639 - val_accuracy: 0.8670\n",
            "Epoch 7/10\n",
            "938/938 [==============================] - 1s 632us/step - loss: 0.3028 - accuracy: 0.8896 - val_loss: 0.3461 - val_accuracy: 0.8740\n",
            "Epoch 8/10\n",
            "938/938 [==============================] - 1s 625us/step - loss: 0.2915 - accuracy: 0.8939 - val_loss: 0.3434 - val_accuracy: 0.8756\n",
            "Epoch 9/10\n",
            "938/938 [==============================] - 1s 616us/step - loss: 0.2811 - accuracy: 0.8969 - val_loss: 0.3396 - val_accuracy: 0.8774\n",
            "Epoch 10/10\n",
            "938/938 [==============================] - 1s 624us/step - loss: 0.2727 - accuracy: 0.8992 - val_loss: 0.3355 - val_accuracy: 0.8796\n"
          ]
        }
      ],
      "source": [
        "### Tu código para la red neuronal de la pregunta 2 aquí ###\n",
        "model128 = Sequential([\n",
        "    Flatten(input_shape=(28, 28)),\n",
        "    Dense(128, activation=\"sigmoid\"),\n",
        "    Dense(10, activation=\"softmax\")\n",
        "])\n",
        "\n",
        "model128.compile(\n",
        "    optimizer=\"adam\",\n",
        "    loss=\"sparse_categorical_crossentropy\",\n",
        "    metrics=['accuracy']\n",
        ")\n",
        "\n",
        "history128 = model128.fit(\n",
        "    training_images,\n",
        "    training_labels, \n",
        "    epochs=10, \n",
        "    batch_size=64,\n",
        "    validation_data=(test_images, test_labels)\n",
        "    )\n",
        "\n"
      ]
    },
    {
      "cell_type": "markdown",
      "metadata": {
        "id": "Bxr5hTKYOQnK"
      },
      "source": [
        "Para concluir el entrenamiento de la red neuronal, una buena practica es evaluar el modelo para ver si la precisión de entrenamiento es real\n",
        "\n",
        "**pregunta 2.2 (0.5 puntos)**: evalua el modelo con las imagenes y etiquetas test."
      ]
    },
    {
      "cell_type": "code",
      "execution_count": 9,
      "metadata": {
        "id": "VNjQEtUUG4iI"
      },
      "outputs": [
        {
          "name": "stdout",
          "output_type": "stream",
          "text": [
            "313/313 [==============================] - 0s 318us/step - loss: 0.3355 - accuracy: 0.8796\n",
            "Accuracy: 87.96%\n",
            "Perdida: 0.3355\n"
          ]
        }
      ],
      "source": [
        "### Tu código para la evaluación de la red neuronal de la pregunta 2 aquí ###\n",
        "\n",
        "# Evaluar el modelo en los datos de prueba\n",
        "test_loss, test_acc = model128.evaluate(test_images, test_labels)\n",
        "\n",
        "# Imprimir la precisión y la pérdida en el conjunto de prueba\n",
        "print(f\"Accuracy: {test_acc*100:.2f}%\")\n",
        "print(f\"Perdida: {test_loss:.4f}\")\n"
      ]
    },
    {
      "cell_type": "markdown",
      "metadata": {
        "id": "ygMVnmSYO83U"
      },
      "source": [
        "Ahora vamos a explorar el código con una serie de ejercicios para alcanzar un grado de comprensión mayor sobre las redes neuronales y su entrenamiento.\n",
        "\n",
        "## 3: Funcionamiento de las predicción de la red neuronal\n",
        "\n",
        "Sigue los siguientes pasos: \n",
        "\n",
        "* Crea una variable llamada **classifications** para construir un clasificador con las imágenes de prueba, para ello puedes utilizar la función predict sobre el conjunto de test\n",
        "* Imprime con la función print la primera entrada en las clasificaciones. \n",
        "\n",
        "**pregunta 3.1 (0.25 puntos)**, el resultado al imprimirlo es un vector de números, \n",
        "* ¿Por qué crees que ocurre esto, y qué representa este vector de números?\n",
        "\n",
        "**pregunta 3.2 (0.25 puntos)**\n",
        "* ¿Cúal es la clase de la primera entrada#  de la variable **classifications**? La respuesta puede ser un número o su etiqueta/clase equivalente."
      ]
    },
    {
      "cell_type": "code",
      "execution_count": 10,
      "metadata": {
        "id": "b-mL-h4xQhCm"
      },
      "outputs": [
        {
          "name": "stdout",
          "output_type": "stream",
          "text": [
            "313/313 [==============================] - 0s 287us/step\n",
            "Primera entrada en las clasificaciones: [1.3160904e-06 7.3790926e-07 1.7433919e-06 1.0823847e-05 2.9421185e-06 6.8737343e-03 1.1485306e-05 2.7866602e-02 1.5630915e-04 9.6507430e-01]\n",
            "Indice de la clase:  9\n"
          ]
        }
      ],
      "source": [
        "### Tu código del clasificador de la pregunta 3 aquí ###\n",
        "classifications = model128.predict(test_images)\n",
        "print(\"Primera entrada en las clasificaciones:\", classifications[0])\n",
        "first_entry_class_index = np.argmax(classifications[0])\n",
        "print(\"Indice de la clase: \",first_entry_class_index)\n"
      ]
    },
    {
      "cell_type": "markdown",
      "metadata": {
        "id": "pvbVC9gaQhMY"
      },
      "source": [
        "Tu respuesta a la pregunta 3.1 aquí: Imprime 10 resultados, ya que la ultima capa de la red es 10 con una función de activación SOFTMAX, donde cada vector representa la probabilidad de a que clase pertenece. "
      ]
    },
    {
      "cell_type": "markdown",
      "metadata": {
        "id": "oRWo-75tdgv0"
      },
      "source": [
        "Tu respuesta a la pregunta 3.2 aquí: Calculamos el indice del vector con la funcion np.argmax, como observamos la clase que nos arroja el modelo es la 9, luego podemos hace la equivalencia para ver a que etiqueta corresponde, que para nuestro caso seria \"Ankle boot\""
      ]
    },
    {
      "cell_type": "markdown",
      "metadata": {
        "id": "hiQ8qAzhRQ4L"
      },
      "source": [
        "# **4: Impacto variar el número de neuronas en las capas ocultas**\n",
        "\n",
        "En este ejercicio vamos a experimentar con nuestra red neuronal cambiando el numero de neuronas por 512 y por 1024. Para ello, utiliza la red neuronal de la pregunta 1, y su capa oculta cambia las 128 neuronas:\n",
        "\n",
        "* **512 neuronas en la capa oculta\n",
        "* **1024 neuronas en la capa oculta\n",
        "\n",
        "y entrena la red en ambos casos.\n",
        "\n"
      ]
    },
    {
      "cell_type": "code",
      "execution_count": 11,
      "metadata": {
        "id": "cdP8ZwuaUV93"
      },
      "outputs": [
        {
          "name": "stdout",
          "output_type": "stream",
          "text": [
            "Epoch 1/10\n",
            "938/938 [==============================] - 1s 1ms/step - loss: 0.5333 - accuracy: 0.8115 - val_loss: 0.4525 - val_accuracy: 0.8357\n",
            "Epoch 2/10\n",
            "938/938 [==============================] - 1s 1ms/step - loss: 0.3999 - accuracy: 0.8553 - val_loss: 0.4009 - val_accuracy: 0.8549\n",
            "Epoch 3/10\n",
            "938/938 [==============================] - 1s 1ms/step - loss: 0.3642 - accuracy: 0.8666 - val_loss: 0.3887 - val_accuracy: 0.8585\n",
            "Epoch 4/10\n",
            "938/938 [==============================] - 1s 1ms/step - loss: 0.3385 - accuracy: 0.8761 - val_loss: 0.3773 - val_accuracy: 0.8626\n",
            "Epoch 5/10\n",
            "938/938 [==============================] - 1s 1ms/step - loss: 0.3162 - accuracy: 0.8830 - val_loss: 0.3623 - val_accuracy: 0.8659\n",
            "Epoch 6/10\n",
            "938/938 [==============================] - 1s 1ms/step - loss: 0.2996 - accuracy: 0.8903 - val_loss: 0.3619 - val_accuracy: 0.8723\n",
            "Epoch 7/10\n",
            "938/938 [==============================] - 1s 1ms/step - loss: 0.2838 - accuracy: 0.8951 - val_loss: 0.3496 - val_accuracy: 0.8739\n",
            "Epoch 8/10\n",
            "938/938 [==============================] - 1s 1ms/step - loss: 0.2697 - accuracy: 0.9004 - val_loss: 0.3288 - val_accuracy: 0.8824\n",
            "Epoch 9/10\n",
            "938/938 [==============================] - 1s 1ms/step - loss: 0.2584 - accuracy: 0.9030 - val_loss: 0.3303 - val_accuracy: 0.8837\n",
            "Epoch 10/10\n",
            "938/938 [==============================] - 1s 1ms/step - loss: 0.2463 - accuracy: 0.9072 - val_loss: 0.3276 - val_accuracy: 0.8822\n"
          ]
        }
      ],
      "source": [
        "### Tu código para 512 neuronas aquí ###\n",
        "model512 = Sequential([\n",
        "    Flatten(input_shape=(28, 28)),\n",
        "    Dense(512, activation='sigmoid'),\n",
        "    Dense(10, activation=\"softmax\")\n",
        "])\n",
        "model512.compile(\n",
        "    optimizer=\"adam\",\n",
        "    loss=\"sparse_categorical_crossentropy\",\n",
        "    metrics=['accuracy']\n",
        ")\n",
        "\n",
        "history512 = model512.fit(\n",
        "    training_images,\n",
        "    training_labels,\n",
        "    epochs=10,\n",
        "    batch_size=64,\n",
        "    validation_data=(test_images,test_labels)\n",
        ")"
      ]
    },
    {
      "cell_type": "code",
      "execution_count": 12,
      "metadata": {
        "id": "YXBlbbfuUaPa"
      },
      "outputs": [
        {
          "name": "stdout",
          "output_type": "stream",
          "text": [
            "Epoch 1/10\n",
            "938/938 [==============================] - 2s 2ms/step - loss: 0.5206 - accuracy: 0.8141 - val_loss: 0.4415 - val_accuracy: 0.8367\n",
            "Epoch 2/10\n",
            "938/938 [==============================] - 2s 2ms/step - loss: 0.4022 - accuracy: 0.8550 - val_loss: 0.4166 - val_accuracy: 0.8527\n",
            "Epoch 3/10\n",
            "938/938 [==============================] - 2s 2ms/step - loss: 0.3675 - accuracy: 0.8665 - val_loss: 0.3927 - val_accuracy: 0.8579\n",
            "Epoch 4/10\n",
            "938/938 [==============================] - 2s 2ms/step - loss: 0.3356 - accuracy: 0.8774 - val_loss: 0.3721 - val_accuracy: 0.8637\n",
            "Epoch 5/10\n",
            "938/938 [==============================] - 2s 2ms/step - loss: 0.3154 - accuracy: 0.8844 - val_loss: 0.3876 - val_accuracy: 0.8596\n",
            "Epoch 6/10\n",
            "938/938 [==============================] - 2s 2ms/step - loss: 0.2952 - accuracy: 0.8908 - val_loss: 0.3503 - val_accuracy: 0.8735\n",
            "Epoch 7/10\n",
            "938/938 [==============================] - 2s 2ms/step - loss: 0.2785 - accuracy: 0.8969 - val_loss: 0.3724 - val_accuracy: 0.8635\n",
            "Epoch 8/10\n",
            "938/938 [==============================] - 2s 2ms/step - loss: 0.2644 - accuracy: 0.9014 - val_loss: 0.3445 - val_accuracy: 0.8756\n",
            "Epoch 9/10\n",
            "938/938 [==============================] - 2s 2ms/step - loss: 0.2515 - accuracy: 0.9064 - val_loss: 0.3318 - val_accuracy: 0.8810\n",
            "Epoch 10/10\n",
            "938/938 [==============================] - 2s 2ms/step - loss: 0.2382 - accuracy: 0.9112 - val_loss: 0.3513 - val_accuracy: 0.8755\n"
          ]
        }
      ],
      "source": [
        "### Tu código para 1024 neuronas aquí ###\n",
        "model1024 = Sequential([\n",
        "    Flatten(input_shape=(28, 28)),\n",
        "    Dense(1024, activation='sigmoid'),\n",
        "    Dense(10, activation=\"softmax\")\n",
        "])\n",
        "model1024.compile(\n",
        "    optimizer=\"adam\",\n",
        "    loss=\"sparse_categorical_crossentropy\",\n",
        "    metrics=['accuracy']\n",
        ")\n",
        "\n",
        "history1024 = model1024.fit(\n",
        "    training_images,\n",
        "    training_labels,\n",
        "    epochs=10,\n",
        "    batch_size=64,\n",
        "    validation_data=(test_images,test_labels)\n",
        ")"
      ]
    },
    {
      "cell_type": "markdown",
      "metadata": {
        "id": "wG0h2HL-Uj93"
      },
      "source": [
        "**pregunta 4.1 (0.5 puntos)**: ¿Cual es el impacto que tiene la red neuronal? Tu respuesta a la pregunta 4.1 aquí:\n",
        "- Observamos que al aumentar el número de capas ocultas, el accuracy aumentan, dando mejores predicciones. Hay que tener en cuenta que tiempo aumenta significativamente, y el aumento en la calidad de las predicciones no aumenta en la misma proporción. "
      ]
    },
    {
      "cell_type": "markdown",
      "metadata": {
        "id": "b-NpUI9EVkVz"
      },
      "source": [
        "Si ahora entrenais el modelo de esta forma (con 512 y 1024 neuronas en la capa oculta) y volveis a ejecutar el predictor guardado en la variable **classifications**, escribir el código del clasificador del ejercicio 1 de nuevo e imprimid el primer objeto guardado en la variable classifications.\n",
        "\n",
        "**pregunta 4.2 (0.25 puntos)**: \n",
        "\n",
        "* ¿En que clase esta clasificado ahora la primera prenda de vestir de la variable classifications?\n",
        "- Vuelve a clasificar la clase 9.\n",
        "\n",
        "**pregunta 4.3 (0.25 puntos)**: \n",
        "\n",
        "* ¿Porque crees que ha ocurrido esto?\n",
        "- Por al aumentar el número el accuracy aumento y tengo mayor probabilidad de certeza"
      ]
    },
    {
      "cell_type": "code",
      "execution_count": 13,
      "metadata": {},
      "outputs": [
        {
          "name": "stdout",
          "output_type": "stream",
          "text": [
            "313/313 [==============================] - 0s 404us/step\n",
            "Primera entrada en las clasificaciones: [4.8642590e-07 2.8872381e-07 4.2557490e-06 2.8430611e-07 5.5162318e-06 3.5357680e-02 4.9649616e-06 4.1090325e-02 4.0018222e-05 9.2349607e-01]\n",
            "Indice de la clase:  9\n"
          ]
        }
      ],
      "source": [
        "classifications512 = model512.predict(test_images)\n",
        "print(\"Primera entrada en las clasificaciones:\", classifications512[0])\n",
        "first_entry_class_index = np.argmax(classifications512[0])\n",
        "print(\"Indice de la clase: \",first_entry_class_index)"
      ]
    },
    {
      "cell_type": "markdown",
      "metadata": {
        "id": "59eM76O1YekZ"
      },
      "source": [
        "# **5: Capa Flatten**\n",
        "\n",
        "En este ejercicio vamos a ver que ocurre cuando quitamos la capa flatten, para ello, escribe la red neuronal de la pregunta 1 y no pongas la capa Flatten.\n",
        "\n",
        "**pregunta 5 (0.5 puntos):** ¿puedes explicar porque da el error que da?\n",
        "\n"
      ]
    },
    {
      "cell_type": "code",
      "execution_count": 14,
      "metadata": {},
      "outputs": [
        {
          "name": "stdout",
          "output_type": "stream",
          "text": [
            "Epoch 1/10\n"
          ]
        },
        {
          "name": "stderr",
          "output_type": "stream",
          "text": [
            "2024-05-07 18:12:03.153861: I tensorflow/core/common_runtime/executor.cc:1197] [/job:localhost/replica:0/task:0/device:CPU:0] (DEBUG INFO) Executor start aborting (this does not indicate an error and you can ignore this message): INVALID_ARGUMENT: logits and labels must have the same first dimension, got logits shape [1792,11] and labels shape [64]\n",
            "\t [[{{node sparse_categorical_crossentropy/SparseSoftmaxCrossEntropyWithLogits/SparseSoftmaxCrossEntropyWithLogits}}]]\n"
          ]
        },
        {
          "ename": "InvalidArgumentError",
          "evalue": "Graph execution error:\n\nDetected at node 'sparse_categorical_crossentropy/SparseSoftmaxCrossEntropyWithLogits/SparseSoftmaxCrossEntropyWithLogits' defined at (most recent call last):\n    File \"<frozen runpy>\", line 198, in _run_module_as_main\n    File \"<frozen runpy>\", line 88, in _run_code\n    File \"/Users/ivo/anaconda3/lib/python3.11/site-packages/ipykernel_launcher.py\", line 17, in <module>\n      app.launch_new_instance()\n    File \"/Users/ivo/anaconda3/lib/python3.11/site-packages/traitlets/config/application.py\", line 992, in launch_instance\n      app.start()\n    File \"/Users/ivo/anaconda3/lib/python3.11/site-packages/ipykernel/kernelapp.py\", line 711, in start\n      self.io_loop.start()\n    File \"/Users/ivo/anaconda3/lib/python3.11/site-packages/tornado/platform/asyncio.py\", line 195, in start\n      self.asyncio_loop.run_forever()\n    File \"/Users/ivo/anaconda3/lib/python3.11/asyncio/base_events.py\", line 607, in run_forever\n      self._run_once()\n    File \"/Users/ivo/anaconda3/lib/python3.11/asyncio/base_events.py\", line 1922, in _run_once\n      handle._run()\n    File \"/Users/ivo/anaconda3/lib/python3.11/asyncio/events.py\", line 80, in _run\n      self._context.run(self._callback, *self._args)\n    File \"/Users/ivo/anaconda3/lib/python3.11/site-packages/ipykernel/kernelbase.py\", line 510, in dispatch_queue\n      await self.process_one()\n    File \"/Users/ivo/anaconda3/lib/python3.11/site-packages/ipykernel/kernelbase.py\", line 499, in process_one\n      await dispatch(*args)\n    File \"/Users/ivo/anaconda3/lib/python3.11/site-packages/ipykernel/kernelbase.py\", line 406, in dispatch_shell\n      await result\n    File \"/Users/ivo/anaconda3/lib/python3.11/site-packages/ipykernel/kernelbase.py\", line 729, in execute_request\n      reply_content = await reply_content\n    File \"/Users/ivo/anaconda3/lib/python3.11/site-packages/ipykernel/ipkernel.py\", line 411, in do_execute\n      res = shell.run_cell(\n    File \"/Users/ivo/anaconda3/lib/python3.11/site-packages/ipykernel/zmqshell.py\", line 531, in run_cell\n      return super().run_cell(*args, **kwargs)\n    File \"/Users/ivo/anaconda3/lib/python3.11/site-packages/IPython/core/interactiveshell.py\", line 3006, in run_cell\n      result = self._run_cell(\n    File \"/Users/ivo/anaconda3/lib/python3.11/site-packages/IPython/core/interactiveshell.py\", line 3061, in _run_cell\n      result = runner(coro)\n    File \"/Users/ivo/anaconda3/lib/python3.11/site-packages/IPython/core/async_helpers.py\", line 129, in _pseudo_sync_runner\n      coro.send(None)\n    File \"/Users/ivo/anaconda3/lib/python3.11/site-packages/IPython/core/interactiveshell.py\", line 3266, in run_cell_async\n      has_raised = await self.run_ast_nodes(code_ast.body, cell_name,\n    File \"/Users/ivo/anaconda3/lib/python3.11/site-packages/IPython/core/interactiveshell.py\", line 3445, in run_ast_nodes\n      if await self.run_code(code, result, async_=asy):\n    File \"/Users/ivo/anaconda3/lib/python3.11/site-packages/IPython/core/interactiveshell.py\", line 3505, in run_code\n      exec(code_obj, self.user_global_ns, self.user_ns)\n    File \"/var/folders/rn/d85knxyd1lxdywybc1w7w9b80000gn/T/ipykernel_3579/1301949077.py\", line 13, in <module>\n      history128 = model128.fit(\n    File \"/Users/ivo/anaconda3/lib/python3.11/site-packages/keras/utils/traceback_utils.py\", line 65, in error_handler\n      return fn(*args, **kwargs)\n    File \"/Users/ivo/anaconda3/lib/python3.11/site-packages/keras/engine/training.py\", line 1685, in fit\n      tmp_logs = self.train_function(iterator)\n    File \"/Users/ivo/anaconda3/lib/python3.11/site-packages/keras/engine/training.py\", line 1284, in train_function\n      return step_function(self, iterator)\n    File \"/Users/ivo/anaconda3/lib/python3.11/site-packages/keras/engine/training.py\", line 1268, in step_function\n      outputs = model.distribute_strategy.run(run_step, args=(data,))\n    File \"/Users/ivo/anaconda3/lib/python3.11/site-packages/keras/engine/training.py\", line 1249, in run_step\n      outputs = model.train_step(data)\n    File \"/Users/ivo/anaconda3/lib/python3.11/site-packages/keras/engine/training.py\", line 1051, in train_step\n      loss = self.compute_loss(x, y, y_pred, sample_weight)\n    File \"/Users/ivo/anaconda3/lib/python3.11/site-packages/keras/engine/training.py\", line 1109, in compute_loss\n      return self.compiled_loss(\n    File \"/Users/ivo/anaconda3/lib/python3.11/site-packages/keras/engine/compile_utils.py\", line 265, in __call__\n      loss_value = loss_obj(y_t, y_p, sample_weight=sw)\n    File \"/Users/ivo/anaconda3/lib/python3.11/site-packages/keras/losses.py\", line 142, in __call__\n      losses = call_fn(y_true, y_pred)\n    File \"/Users/ivo/anaconda3/lib/python3.11/site-packages/keras/losses.py\", line 268, in call\n      return ag_fn(y_true, y_pred, **self._fn_kwargs)\n    File \"/Users/ivo/anaconda3/lib/python3.11/site-packages/keras/losses.py\", line 2078, in sparse_categorical_crossentropy\n      return backend.sparse_categorical_crossentropy(\n    File \"/Users/ivo/anaconda3/lib/python3.11/site-packages/keras/backend.py\", line 5660, in sparse_categorical_crossentropy\n      res = tf.nn.sparse_softmax_cross_entropy_with_logits(\nNode: 'sparse_categorical_crossentropy/SparseSoftmaxCrossEntropyWithLogits/SparseSoftmaxCrossEntropyWithLogits'\nlogits and labels must have the same first dimension, got logits shape [1792,11] and labels shape [64]\n\t [[{{node sparse_categorical_crossentropy/SparseSoftmaxCrossEntropyWithLogits/SparseSoftmaxCrossEntropyWithLogits}}]] [Op:__inference_train_function_141782]",
          "output_type": "error",
          "traceback": [
            "\u001b[0;31m---------------------------------------------------------------------------\u001b[0m",
            "\u001b[0;31mInvalidArgumentError\u001b[0m                      Traceback (most recent call last)",
            "Cell \u001b[0;32mIn[14], line 13\u001b[0m\n\u001b[1;32m      2\u001b[0m model128 \u001b[38;5;241m=\u001b[39m Sequential([\n\u001b[1;32m      3\u001b[0m     \n\u001b[1;32m      4\u001b[0m     Dense(\u001b[38;5;241m128\u001b[39m, activation\u001b[38;5;241m=\u001b[39m\u001b[38;5;124m'\u001b[39m\u001b[38;5;124msigmoid\u001b[39m\u001b[38;5;124m'\u001b[39m),\n\u001b[1;32m      5\u001b[0m     Dense(\u001b[38;5;241m11\u001b[39m, activation\u001b[38;5;241m=\u001b[39m\u001b[38;5;124m\"\u001b[39m\u001b[38;5;124msoftmax\u001b[39m\u001b[38;5;124m\"\u001b[39m)\n\u001b[1;32m      6\u001b[0m ])\n\u001b[1;32m      7\u001b[0m model128\u001b[38;5;241m.\u001b[39mcompile(\n\u001b[1;32m      8\u001b[0m     optimizer\u001b[38;5;241m=\u001b[39m\u001b[38;5;124m\"\u001b[39m\u001b[38;5;124madam\u001b[39m\u001b[38;5;124m\"\u001b[39m,\n\u001b[1;32m      9\u001b[0m     loss\u001b[38;5;241m=\u001b[39m\u001b[38;5;124m\"\u001b[39m\u001b[38;5;124msparse_categorical_crossentropy\u001b[39m\u001b[38;5;124m\"\u001b[39m,\n\u001b[1;32m     10\u001b[0m     metrics\u001b[38;5;241m=\u001b[39m[\u001b[38;5;124m'\u001b[39m\u001b[38;5;124maccuracy\u001b[39m\u001b[38;5;124m'\u001b[39m]\n\u001b[1;32m     11\u001b[0m )\n\u001b[0;32m---> 13\u001b[0m history128 \u001b[38;5;241m=\u001b[39m model128\u001b[38;5;241m.\u001b[39mfit(\n\u001b[1;32m     14\u001b[0m     training_images,\n\u001b[1;32m     15\u001b[0m     training_labels,\n\u001b[1;32m     16\u001b[0m     epochs\u001b[38;5;241m=\u001b[39m\u001b[38;5;241m10\u001b[39m,\n\u001b[1;32m     17\u001b[0m     batch_size\u001b[38;5;241m=\u001b[39m\u001b[38;5;241m64\u001b[39m,\n\u001b[1;32m     18\u001b[0m     validation_data\u001b[38;5;241m=\u001b[39m(test_images,test_labels)\n\u001b[1;32m     19\u001b[0m )\n",
            "File \u001b[0;32m~/anaconda3/lib/python3.11/site-packages/keras/utils/traceback_utils.py:70\u001b[0m, in \u001b[0;36mfilter_traceback.<locals>.error_handler\u001b[0;34m(*args, **kwargs)\u001b[0m\n\u001b[1;32m     67\u001b[0m     filtered_tb \u001b[38;5;241m=\u001b[39m _process_traceback_frames(e\u001b[38;5;241m.\u001b[39m__traceback__)\n\u001b[1;32m     68\u001b[0m     \u001b[38;5;66;03m# To get the full stack trace, call:\u001b[39;00m\n\u001b[1;32m     69\u001b[0m     \u001b[38;5;66;03m# `tf.debugging.disable_traceback_filtering()`\u001b[39;00m\n\u001b[0;32m---> 70\u001b[0m     \u001b[38;5;28;01mraise\u001b[39;00m e\u001b[38;5;241m.\u001b[39mwith_traceback(filtered_tb) \u001b[38;5;28;01mfrom\u001b[39;00m \u001b[38;5;28;01mNone\u001b[39;00m\n\u001b[1;32m     71\u001b[0m \u001b[38;5;28;01mfinally\u001b[39;00m:\n\u001b[1;32m     72\u001b[0m     \u001b[38;5;28;01mdel\u001b[39;00m filtered_tb\n",
            "File \u001b[0;32m~/anaconda3/lib/python3.11/site-packages/tensorflow/python/eager/execute.py:52\u001b[0m, in \u001b[0;36mquick_execute\u001b[0;34m(op_name, num_outputs, inputs, attrs, ctx, name)\u001b[0m\n\u001b[1;32m     50\u001b[0m \u001b[38;5;28;01mtry\u001b[39;00m:\n\u001b[1;32m     51\u001b[0m   ctx\u001b[38;5;241m.\u001b[39mensure_initialized()\n\u001b[0;32m---> 52\u001b[0m   tensors \u001b[38;5;241m=\u001b[39m pywrap_tfe\u001b[38;5;241m.\u001b[39mTFE_Py_Execute(ctx\u001b[38;5;241m.\u001b[39m_handle, device_name, op_name,\n\u001b[1;32m     53\u001b[0m                                       inputs, attrs, num_outputs)\n\u001b[1;32m     54\u001b[0m \u001b[38;5;28;01mexcept\u001b[39;00m core\u001b[38;5;241m.\u001b[39m_NotOkStatusException \u001b[38;5;28;01mas\u001b[39;00m e:\n\u001b[1;32m     55\u001b[0m   \u001b[38;5;28;01mif\u001b[39;00m name \u001b[38;5;129;01mis\u001b[39;00m \u001b[38;5;129;01mnot\u001b[39;00m \u001b[38;5;28;01mNone\u001b[39;00m:\n",
            "\u001b[0;31mInvalidArgumentError\u001b[0m: Graph execution error:\n\nDetected at node 'sparse_categorical_crossentropy/SparseSoftmaxCrossEntropyWithLogits/SparseSoftmaxCrossEntropyWithLogits' defined at (most recent call last):\n    File \"<frozen runpy>\", line 198, in _run_module_as_main\n    File \"<frozen runpy>\", line 88, in _run_code\n    File \"/Users/ivo/anaconda3/lib/python3.11/site-packages/ipykernel_launcher.py\", line 17, in <module>\n      app.launch_new_instance()\n    File \"/Users/ivo/anaconda3/lib/python3.11/site-packages/traitlets/config/application.py\", line 992, in launch_instance\n      app.start()\n    File \"/Users/ivo/anaconda3/lib/python3.11/site-packages/ipykernel/kernelapp.py\", line 711, in start\n      self.io_loop.start()\n    File \"/Users/ivo/anaconda3/lib/python3.11/site-packages/tornado/platform/asyncio.py\", line 195, in start\n      self.asyncio_loop.run_forever()\n    File \"/Users/ivo/anaconda3/lib/python3.11/asyncio/base_events.py\", line 607, in run_forever\n      self._run_once()\n    File \"/Users/ivo/anaconda3/lib/python3.11/asyncio/base_events.py\", line 1922, in _run_once\n      handle._run()\n    File \"/Users/ivo/anaconda3/lib/python3.11/asyncio/events.py\", line 80, in _run\n      self._context.run(self._callback, *self._args)\n    File \"/Users/ivo/anaconda3/lib/python3.11/site-packages/ipykernel/kernelbase.py\", line 510, in dispatch_queue\n      await self.process_one()\n    File \"/Users/ivo/anaconda3/lib/python3.11/site-packages/ipykernel/kernelbase.py\", line 499, in process_one\n      await dispatch(*args)\n    File \"/Users/ivo/anaconda3/lib/python3.11/site-packages/ipykernel/kernelbase.py\", line 406, in dispatch_shell\n      await result\n    File \"/Users/ivo/anaconda3/lib/python3.11/site-packages/ipykernel/kernelbase.py\", line 729, in execute_request\n      reply_content = await reply_content\n    File \"/Users/ivo/anaconda3/lib/python3.11/site-packages/ipykernel/ipkernel.py\", line 411, in do_execute\n      res = shell.run_cell(\n    File \"/Users/ivo/anaconda3/lib/python3.11/site-packages/ipykernel/zmqshell.py\", line 531, in run_cell\n      return super().run_cell(*args, **kwargs)\n    File \"/Users/ivo/anaconda3/lib/python3.11/site-packages/IPython/core/interactiveshell.py\", line 3006, in run_cell\n      result = self._run_cell(\n    File \"/Users/ivo/anaconda3/lib/python3.11/site-packages/IPython/core/interactiveshell.py\", line 3061, in _run_cell\n      result = runner(coro)\n    File \"/Users/ivo/anaconda3/lib/python3.11/site-packages/IPython/core/async_helpers.py\", line 129, in _pseudo_sync_runner\n      coro.send(None)\n    File \"/Users/ivo/anaconda3/lib/python3.11/site-packages/IPython/core/interactiveshell.py\", line 3266, in run_cell_async\n      has_raised = await self.run_ast_nodes(code_ast.body, cell_name,\n    File \"/Users/ivo/anaconda3/lib/python3.11/site-packages/IPython/core/interactiveshell.py\", line 3445, in run_ast_nodes\n      if await self.run_code(code, result, async_=asy):\n    File \"/Users/ivo/anaconda3/lib/python3.11/site-packages/IPython/core/interactiveshell.py\", line 3505, in run_code\n      exec(code_obj, self.user_global_ns, self.user_ns)\n    File \"/var/folders/rn/d85knxyd1lxdywybc1w7w9b80000gn/T/ipykernel_3579/1301949077.py\", line 13, in <module>\n      history128 = model128.fit(\n    File \"/Users/ivo/anaconda3/lib/python3.11/site-packages/keras/utils/traceback_utils.py\", line 65, in error_handler\n      return fn(*args, **kwargs)\n    File \"/Users/ivo/anaconda3/lib/python3.11/site-packages/keras/engine/training.py\", line 1685, in fit\n      tmp_logs = self.train_function(iterator)\n    File \"/Users/ivo/anaconda3/lib/python3.11/site-packages/keras/engine/training.py\", line 1284, in train_function\n      return step_function(self, iterator)\n    File \"/Users/ivo/anaconda3/lib/python3.11/site-packages/keras/engine/training.py\", line 1268, in step_function\n      outputs = model.distribute_strategy.run(run_step, args=(data,))\n    File \"/Users/ivo/anaconda3/lib/python3.11/site-packages/keras/engine/training.py\", line 1249, in run_step\n      outputs = model.train_step(data)\n    File \"/Users/ivo/anaconda3/lib/python3.11/site-packages/keras/engine/training.py\", line 1051, in train_step\n      loss = self.compute_loss(x, y, y_pred, sample_weight)\n    File \"/Users/ivo/anaconda3/lib/python3.11/site-packages/keras/engine/training.py\", line 1109, in compute_loss\n      return self.compiled_loss(\n    File \"/Users/ivo/anaconda3/lib/python3.11/site-packages/keras/engine/compile_utils.py\", line 265, in __call__\n      loss_value = loss_obj(y_t, y_p, sample_weight=sw)\n    File \"/Users/ivo/anaconda3/lib/python3.11/site-packages/keras/losses.py\", line 142, in __call__\n      losses = call_fn(y_true, y_pred)\n    File \"/Users/ivo/anaconda3/lib/python3.11/site-packages/keras/losses.py\", line 268, in call\n      return ag_fn(y_true, y_pred, **self._fn_kwargs)\n    File \"/Users/ivo/anaconda3/lib/python3.11/site-packages/keras/losses.py\", line 2078, in sparse_categorical_crossentropy\n      return backend.sparse_categorical_crossentropy(\n    File \"/Users/ivo/anaconda3/lib/python3.11/site-packages/keras/backend.py\", line 5660, in sparse_categorical_crossentropy\n      res = tf.nn.sparse_softmax_cross_entropy_with_logits(\nNode: 'sparse_categorical_crossentropy/SparseSoftmaxCrossEntropyWithLogits/SparseSoftmaxCrossEntropyWithLogits'\nlogits and labels must have the same first dimension, got logits shape [1792,11] and labels shape [64]\n\t [[{{node sparse_categorical_crossentropy/SparseSoftmaxCrossEntropyWithLogits/SparseSoftmaxCrossEntropyWithLogits}}]] [Op:__inference_train_function_141782]"
          ]
        }
      ],
      "source": [
        "### Tu código para 1024 neuronas aquí ###\n",
        "model128 = Sequential([\n",
        "    \n",
        "    Dense(128, activation='sigmoid'),\n",
        "    Dense(11, activation=\"softmax\")\n",
        "])\n",
        "model128.compile(\n",
        "    optimizer=\"adam\",\n",
        "    loss=\"sparse_categorical_crossentropy\",\n",
        "    metrics=['accuracy']\n",
        ")\n",
        "\n",
        "history128 = model128.fit(\n",
        "    training_images,\n",
        "    training_labels,\n",
        "    epochs=10,\n",
        "    batch_size=64,\n",
        "    validation_data=(test_images,test_labels)\n",
        ")"
      ]
    },
    {
      "cell_type": "markdown",
      "metadata": {},
      "source": [
        "Tu respuesta a la pregunta 5.1 aquí:\n",
        "- Las imagenes son matrices de 28 x 28 y la red neuronal espera un vector de una dimensión. Osea que si le pasamos la imagen dará error ya que espera un vecotr y recibe una matriz"
      ]
    },
    {
      "cell_type": "markdown",
      "metadata": {
        "id": "f37cIr81ZYJj"
      },
      "source": [
        "# **6: Número de neuronas de la capa de salida**\n",
        "Considerad la capa final, la de salida de la red neuronal de la pregunta 1.\n",
        "\n",
        "**pregunta 6.1 (0.25 puntos)**: ¿Por qué son 10 las neuronas de la última capa?\n",
        "\n",
        "**pregunta 6.2 (0.25 puntos)**: ¿Qué pasaría si tuvieras una cantidad diferente a 10? \n",
        "\n",
        "Por ejemplo, intenta entrenar la red con 5, para ello utiliza la red neuronal de la pregunta 1 y cambia a 5 el número de neuronas en la última capa."
      ]
    },
    {
      "cell_type": "markdown",
      "metadata": {
        "id": "-aNmrkkOZN6D"
      },
      "source": [
        "Tu respuesta a la pregunta 6 aquí:"
      ]
    },
    {
      "cell_type": "code",
      "execution_count": null,
      "metadata": {
        "id": "FhbZkppYZOCS"
      },
      "outputs": [
        {
          "name": "stdout",
          "output_type": "stream",
          "text": [
            "Epoch 1/10\n"
          ]
        },
        {
          "ename": "InvalidArgumentError",
          "evalue": "Graph execution error:\n\nDetected at node compile_loss/sparse_categorical_crossentropy/SparseSoftmaxCrossEntropyWithLogits/SparseSoftmaxCrossEntropyWithLogits defined at (most recent call last):\n  File \"<frozen runpy>\", line 198, in _run_module_as_main\n\n  File \"<frozen runpy>\", line 88, in _run_code\n\n  File \"c:\\Users\\ivoto\\AppData\\Local\\Programs\\Python\\Python312\\venv\\Lib\\site-packages\\ipykernel_launcher.py\", line 18, in <module>\n\n  File \"c:\\Users\\ivoto\\AppData\\Local\\Programs\\Python\\Python312\\venv\\Lib\\site-packages\\traitlets\\config\\application.py\", line 1075, in launch_instance\n\n  File \"c:\\Users\\ivoto\\AppData\\Local\\Programs\\Python\\Python312\\venv\\Lib\\site-packages\\ipykernel\\kernelapp.py\", line 739, in start\n\n  File \"c:\\Users\\ivoto\\AppData\\Local\\Programs\\Python\\Python312\\venv\\Lib\\site-packages\\tornado\\platform\\asyncio.py\", line 205, in start\n\n  File \"C:\\Users\\ivoto\\AppData\\Local\\Programs\\Python\\Python312\\Lib\\asyncio\\base_events.py\", line 639, in run_forever\n\n  File \"C:\\Users\\ivoto\\AppData\\Local\\Programs\\Python\\Python312\\Lib\\asyncio\\base_events.py\", line 1985, in _run_once\n\n  File \"C:\\Users\\ivoto\\AppData\\Local\\Programs\\Python\\Python312\\Lib\\asyncio\\events.py\", line 88, in _run\n\n  File \"c:\\Users\\ivoto\\AppData\\Local\\Programs\\Python\\Python312\\venv\\Lib\\site-packages\\ipykernel\\kernelbase.py\", line 545, in dispatch_queue\n\n  File \"c:\\Users\\ivoto\\AppData\\Local\\Programs\\Python\\Python312\\venv\\Lib\\site-packages\\ipykernel\\kernelbase.py\", line 534, in process_one\n\n  File \"c:\\Users\\ivoto\\AppData\\Local\\Programs\\Python\\Python312\\venv\\Lib\\site-packages\\ipykernel\\kernelbase.py\", line 437, in dispatch_shell\n\n  File \"c:\\Users\\ivoto\\AppData\\Local\\Programs\\Python\\Python312\\venv\\Lib\\site-packages\\ipykernel\\ipkernel.py\", line 359, in execute_request\n\n  File \"c:\\Users\\ivoto\\AppData\\Local\\Programs\\Python\\Python312\\venv\\Lib\\site-packages\\ipykernel\\kernelbase.py\", line 778, in execute_request\n\n  File \"c:\\Users\\ivoto\\AppData\\Local\\Programs\\Python\\Python312\\venv\\Lib\\site-packages\\ipykernel\\ipkernel.py\", line 446, in do_execute\n\n  File \"c:\\Users\\ivoto\\AppData\\Local\\Programs\\Python\\Python312\\venv\\Lib\\site-packages\\ipykernel\\zmqshell.py\", line 549, in run_cell\n\n  File \"c:\\Users\\ivoto\\AppData\\Local\\Programs\\Python\\Python312\\venv\\Lib\\site-packages\\IPython\\core\\interactiveshell.py\", line 3009, in run_cell\n\n  File \"c:\\Users\\ivoto\\AppData\\Local\\Programs\\Python\\Python312\\venv\\Lib\\site-packages\\IPython\\core\\interactiveshell.py\", line 3064, in _run_cell\n\n  File \"c:\\Users\\ivoto\\AppData\\Local\\Programs\\Python\\Python312\\venv\\Lib\\site-packages\\IPython\\core\\async_helpers.py\", line 129, in _pseudo_sync_runner\n\n  File \"c:\\Users\\ivoto\\AppData\\Local\\Programs\\Python\\Python312\\venv\\Lib\\site-packages\\IPython\\core\\interactiveshell.py\", line 3269, in run_cell_async\n\n  File \"c:\\Users\\ivoto\\AppData\\Local\\Programs\\Python\\Python312\\venv\\Lib\\site-packages\\IPython\\core\\interactiveshell.py\", line 3448, in run_ast_nodes\n\n  File \"c:\\Users\\ivoto\\AppData\\Local\\Programs\\Python\\Python312\\venv\\Lib\\site-packages\\IPython\\core\\interactiveshell.py\", line 3508, in run_code\n\n  File \"C:\\Users\\ivoto\\AppData\\Local\\Temp\\ipykernel_15064\\2184215844.py\", line 14, in <module>\n\n  File \"c:\\Users\\ivoto\\AppData\\Local\\Programs\\Python\\Python312\\venv\\Lib\\site-packages\\keras\\src\\utils\\traceback_utils.py\", line 117, in error_handler\n\n  File \"c:\\Users\\ivoto\\AppData\\Local\\Programs\\Python\\Python312\\venv\\Lib\\site-packages\\keras\\src\\backend\\tensorflow\\trainer.py\", line 325, in fit\n\n  File \"c:\\Users\\ivoto\\AppData\\Local\\Programs\\Python\\Python312\\venv\\Lib\\site-packages\\keras\\src\\backend\\tensorflow\\trainer.py\", line 118, in one_step_on_iterator\n\n  File \"c:\\Users\\ivoto\\AppData\\Local\\Programs\\Python\\Python312\\venv\\Lib\\site-packages\\keras\\src\\backend\\tensorflow\\trainer.py\", line 106, in one_step_on_data\n\n  File \"c:\\Users\\ivoto\\AppData\\Local\\Programs\\Python\\Python312\\venv\\Lib\\site-packages\\keras\\src\\backend\\tensorflow\\trainer.py\", line 60, in train_step\n\n  File \"c:\\Users\\ivoto\\AppData\\Local\\Programs\\Python\\Python312\\venv\\Lib\\site-packages\\keras\\src\\trainers\\trainer.py\", line 322, in compute_loss\n\n  File \"c:\\Users\\ivoto\\AppData\\Local\\Programs\\Python\\Python312\\venv\\Lib\\site-packages\\keras\\src\\trainers\\compile_utils.py\", line 605, in __call__\n\n  File \"c:\\Users\\ivoto\\AppData\\Local\\Programs\\Python\\Python312\\venv\\Lib\\site-packages\\keras\\src\\trainers\\compile_utils.py\", line 641, in call\n\n  File \"c:\\Users\\ivoto\\AppData\\Local\\Programs\\Python\\Python312\\venv\\Lib\\site-packages\\keras\\src\\losses\\loss.py\", line 42, in __call__\n\n  File \"c:\\Users\\ivoto\\AppData\\Local\\Programs\\Python\\Python312\\venv\\Lib\\site-packages\\keras\\src\\losses\\losses.py\", line 22, in call\n\n  File \"c:\\Users\\ivoto\\AppData\\Local\\Programs\\Python\\Python312\\venv\\Lib\\site-packages\\keras\\src\\losses\\losses.py\", line 1714, in sparse_categorical_crossentropy\n\n  File \"c:\\Users\\ivoto\\AppData\\Local\\Programs\\Python\\Python312\\venv\\Lib\\site-packages\\keras\\src\\ops\\nn.py\", line 1554, in sparse_categorical_crossentropy\n\n  File \"c:\\Users\\ivoto\\AppData\\Local\\Programs\\Python\\Python312\\venv\\Lib\\site-packages\\keras\\src\\backend\\tensorflow\\nn.py\", line 633, in sparse_categorical_crossentropy\n\nReceived a label value of 9 which is outside the valid range of [0, 5).  Label values: 8 5 7 0 0 4 8 2 5 6 6 9 4 3 3 2 7 2 6 9 5 7 2 7 1 1 4 3 6 6 0 6 3 1 7 6 6 5 3 1 3 1 0 4 2 2 9 5 5 8 5 6 7 0 1 8 5 7 4 8 3 5 9 5\n\t [[{{node compile_loss/sparse_categorical_crossentropy/SparseSoftmaxCrossEntropyWithLogits/SparseSoftmaxCrossEntropyWithLogits}}]] [Op:__inference_one_step_on_iterator_224005]",
          "output_type": "error",
          "traceback": [
            "\u001b[1;31m---------------------------------------------------------------------------\u001b[0m",
            "\u001b[1;31mInvalidArgumentError\u001b[0m                      Traceback (most recent call last)",
            "Cell \u001b[1;32mIn[26], line 14\u001b[0m\n\u001b[0;32m      3\u001b[0m model128 \u001b[38;5;241m=\u001b[39m Sequential([\n\u001b[0;32m      4\u001b[0m     Flatten(input_shape\u001b[38;5;241m=\u001b[39m(\u001b[38;5;241m28\u001b[39m, \u001b[38;5;241m28\u001b[39m)),    \n\u001b[0;32m      5\u001b[0m     Dense(\u001b[38;5;241m128\u001b[39m, activation\u001b[38;5;241m=\u001b[39m\u001b[38;5;124m'\u001b[39m\u001b[38;5;124msigmoid\u001b[39m\u001b[38;5;124m'\u001b[39m),\n\u001b[0;32m      6\u001b[0m     Dense(\u001b[38;5;241m5\u001b[39m, activation\u001b[38;5;241m=\u001b[39m\u001b[38;5;124m\"\u001b[39m\u001b[38;5;124msoftmax\u001b[39m\u001b[38;5;124m\"\u001b[39m)\n\u001b[0;32m      7\u001b[0m     ])\n\u001b[0;32m      8\u001b[0m model128\u001b[38;5;241m.\u001b[39mcompile(\n\u001b[0;32m      9\u001b[0m     optimizer\u001b[38;5;241m=\u001b[39m\u001b[38;5;124m\"\u001b[39m\u001b[38;5;124madam\u001b[39m\u001b[38;5;124m\"\u001b[39m,\n\u001b[0;32m     10\u001b[0m     loss\u001b[38;5;241m=\u001b[39m\u001b[38;5;124m\"\u001b[39m\u001b[38;5;124msparse_categorical_crossentropy\u001b[39m\u001b[38;5;124m\"\u001b[39m,\n\u001b[0;32m     11\u001b[0m     metrics\u001b[38;5;241m=\u001b[39m[\u001b[38;5;124m'\u001b[39m\u001b[38;5;124maccuracy\u001b[39m\u001b[38;5;124m'\u001b[39m]\n\u001b[0;32m     12\u001b[0m )\n\u001b[1;32m---> 14\u001b[0m history128 \u001b[38;5;241m=\u001b[39m \u001b[43mmodel128\u001b[49m\u001b[38;5;241;43m.\u001b[39;49m\u001b[43mfit\u001b[49m\u001b[43m(\u001b[49m\n\u001b[0;32m     15\u001b[0m \u001b[43m    \u001b[49m\u001b[43mtraining_images\u001b[49m\u001b[43m,\u001b[49m\n\u001b[0;32m     16\u001b[0m \u001b[43m    \u001b[49m\u001b[43mtraining_labels\u001b[49m\u001b[43m,\u001b[49m\n\u001b[0;32m     17\u001b[0m \u001b[43m    \u001b[49m\u001b[43mepochs\u001b[49m\u001b[38;5;241;43m=\u001b[39;49m\u001b[38;5;241;43m10\u001b[39;49m\u001b[43m,\u001b[49m\n\u001b[0;32m     18\u001b[0m \u001b[43m    \u001b[49m\u001b[43mbatch_size\u001b[49m\u001b[38;5;241;43m=\u001b[39;49m\u001b[38;5;241;43m64\u001b[39;49m\u001b[43m,\u001b[49m\n\u001b[0;32m     19\u001b[0m \u001b[43m    \u001b[49m\u001b[43mvalidation_data\u001b[49m\u001b[38;5;241;43m=\u001b[39;49m\u001b[43m(\u001b[49m\u001b[43mtest_images\u001b[49m\u001b[43m,\u001b[49m\u001b[43mtest_labels\u001b[49m\u001b[43m)\u001b[49m\n\u001b[0;32m     20\u001b[0m \u001b[43m)\u001b[49m\n",
            "File \u001b[1;32mc:\\Users\\ivoto\\AppData\\Local\\Programs\\Python\\Python312\\venv\\Lib\\site-packages\\keras\\src\\utils\\traceback_utils.py:122\u001b[0m, in \u001b[0;36mfilter_traceback.<locals>.error_handler\u001b[1;34m(*args, **kwargs)\u001b[0m\n\u001b[0;32m    119\u001b[0m     filtered_tb \u001b[38;5;241m=\u001b[39m _process_traceback_frames(e\u001b[38;5;241m.\u001b[39m__traceback__)\n\u001b[0;32m    120\u001b[0m     \u001b[38;5;66;03m# To get the full stack trace, call:\u001b[39;00m\n\u001b[0;32m    121\u001b[0m     \u001b[38;5;66;03m# `keras.config.disable_traceback_filtering()`\u001b[39;00m\n\u001b[1;32m--> 122\u001b[0m     \u001b[38;5;28;01mraise\u001b[39;00m e\u001b[38;5;241m.\u001b[39mwith_traceback(filtered_tb) \u001b[38;5;28;01mfrom\u001b[39;00m \u001b[38;5;28;01mNone\u001b[39;00m\n\u001b[0;32m    123\u001b[0m \u001b[38;5;28;01mfinally\u001b[39;00m:\n\u001b[0;32m    124\u001b[0m     \u001b[38;5;28;01mdel\u001b[39;00m filtered_tb\n",
            "File \u001b[1;32mc:\\Users\\ivoto\\AppData\\Local\\Programs\\Python\\Python312\\venv\\Lib\\site-packages\\tensorflow\\python\\eager\\execute.py:53\u001b[0m, in \u001b[0;36mquick_execute\u001b[1;34m(op_name, num_outputs, inputs, attrs, ctx, name)\u001b[0m\n\u001b[0;32m     51\u001b[0m \u001b[38;5;28;01mtry\u001b[39;00m:\n\u001b[0;32m     52\u001b[0m   ctx\u001b[38;5;241m.\u001b[39mensure_initialized()\n\u001b[1;32m---> 53\u001b[0m   tensors \u001b[38;5;241m=\u001b[39m pywrap_tfe\u001b[38;5;241m.\u001b[39mTFE_Py_Execute(ctx\u001b[38;5;241m.\u001b[39m_handle, device_name, op_name,\n\u001b[0;32m     54\u001b[0m                                       inputs, attrs, num_outputs)\n\u001b[0;32m     55\u001b[0m \u001b[38;5;28;01mexcept\u001b[39;00m core\u001b[38;5;241m.\u001b[39m_NotOkStatusException \u001b[38;5;28;01mas\u001b[39;00m e:\n\u001b[0;32m     56\u001b[0m   \u001b[38;5;28;01mif\u001b[39;00m name \u001b[38;5;129;01mis\u001b[39;00m \u001b[38;5;129;01mnot\u001b[39;00m \u001b[38;5;28;01mNone\u001b[39;00m:\n",
            "\u001b[1;31mInvalidArgumentError\u001b[0m: Graph execution error:\n\nDetected at node compile_loss/sparse_categorical_crossentropy/SparseSoftmaxCrossEntropyWithLogits/SparseSoftmaxCrossEntropyWithLogits defined at (most recent call last):\n  File \"<frozen runpy>\", line 198, in _run_module_as_main\n\n  File \"<frozen runpy>\", line 88, in _run_code\n\n  File \"c:\\Users\\ivoto\\AppData\\Local\\Programs\\Python\\Python312\\venv\\Lib\\site-packages\\ipykernel_launcher.py\", line 18, in <module>\n\n  File \"c:\\Users\\ivoto\\AppData\\Local\\Programs\\Python\\Python312\\venv\\Lib\\site-packages\\traitlets\\config\\application.py\", line 1075, in launch_instance\n\n  File \"c:\\Users\\ivoto\\AppData\\Local\\Programs\\Python\\Python312\\venv\\Lib\\site-packages\\ipykernel\\kernelapp.py\", line 739, in start\n\n  File \"c:\\Users\\ivoto\\AppData\\Local\\Programs\\Python\\Python312\\venv\\Lib\\site-packages\\tornado\\platform\\asyncio.py\", line 205, in start\n\n  File \"C:\\Users\\ivoto\\AppData\\Local\\Programs\\Python\\Python312\\Lib\\asyncio\\base_events.py\", line 639, in run_forever\n\n  File \"C:\\Users\\ivoto\\AppData\\Local\\Programs\\Python\\Python312\\Lib\\asyncio\\base_events.py\", line 1985, in _run_once\n\n  File \"C:\\Users\\ivoto\\AppData\\Local\\Programs\\Python\\Python312\\Lib\\asyncio\\events.py\", line 88, in _run\n\n  File \"c:\\Users\\ivoto\\AppData\\Local\\Programs\\Python\\Python312\\venv\\Lib\\site-packages\\ipykernel\\kernelbase.py\", line 545, in dispatch_queue\n\n  File \"c:\\Users\\ivoto\\AppData\\Local\\Programs\\Python\\Python312\\venv\\Lib\\site-packages\\ipykernel\\kernelbase.py\", line 534, in process_one\n\n  File \"c:\\Users\\ivoto\\AppData\\Local\\Programs\\Python\\Python312\\venv\\Lib\\site-packages\\ipykernel\\kernelbase.py\", line 437, in dispatch_shell\n\n  File \"c:\\Users\\ivoto\\AppData\\Local\\Programs\\Python\\Python312\\venv\\Lib\\site-packages\\ipykernel\\ipkernel.py\", line 359, in execute_request\n\n  File \"c:\\Users\\ivoto\\AppData\\Local\\Programs\\Python\\Python312\\venv\\Lib\\site-packages\\ipykernel\\kernelbase.py\", line 778, in execute_request\n\n  File \"c:\\Users\\ivoto\\AppData\\Local\\Programs\\Python\\Python312\\venv\\Lib\\site-packages\\ipykernel\\ipkernel.py\", line 446, in do_execute\n\n  File \"c:\\Users\\ivoto\\AppData\\Local\\Programs\\Python\\Python312\\venv\\Lib\\site-packages\\ipykernel\\zmqshell.py\", line 549, in run_cell\n\n  File \"c:\\Users\\ivoto\\AppData\\Local\\Programs\\Python\\Python312\\venv\\Lib\\site-packages\\IPython\\core\\interactiveshell.py\", line 3009, in run_cell\n\n  File \"c:\\Users\\ivoto\\AppData\\Local\\Programs\\Python\\Python312\\venv\\Lib\\site-packages\\IPython\\core\\interactiveshell.py\", line 3064, in _run_cell\n\n  File \"c:\\Users\\ivoto\\AppData\\Local\\Programs\\Python\\Python312\\venv\\Lib\\site-packages\\IPython\\core\\async_helpers.py\", line 129, in _pseudo_sync_runner\n\n  File \"c:\\Users\\ivoto\\AppData\\Local\\Programs\\Python\\Python312\\venv\\Lib\\site-packages\\IPython\\core\\interactiveshell.py\", line 3269, in run_cell_async\n\n  File \"c:\\Users\\ivoto\\AppData\\Local\\Programs\\Python\\Python312\\venv\\Lib\\site-packages\\IPython\\core\\interactiveshell.py\", line 3448, in run_ast_nodes\n\n  File \"c:\\Users\\ivoto\\AppData\\Local\\Programs\\Python\\Python312\\venv\\Lib\\site-packages\\IPython\\core\\interactiveshell.py\", line 3508, in run_code\n\n  File \"C:\\Users\\ivoto\\AppData\\Local\\Temp\\ipykernel_15064\\2184215844.py\", line 14, in <module>\n\n  File \"c:\\Users\\ivoto\\AppData\\Local\\Programs\\Python\\Python312\\venv\\Lib\\site-packages\\keras\\src\\utils\\traceback_utils.py\", line 117, in error_handler\n\n  File \"c:\\Users\\ivoto\\AppData\\Local\\Programs\\Python\\Python312\\venv\\Lib\\site-packages\\keras\\src\\backend\\tensorflow\\trainer.py\", line 325, in fit\n\n  File \"c:\\Users\\ivoto\\AppData\\Local\\Programs\\Python\\Python312\\venv\\Lib\\site-packages\\keras\\src\\backend\\tensorflow\\trainer.py\", line 118, in one_step_on_iterator\n\n  File \"c:\\Users\\ivoto\\AppData\\Local\\Programs\\Python\\Python312\\venv\\Lib\\site-packages\\keras\\src\\backend\\tensorflow\\trainer.py\", line 106, in one_step_on_data\n\n  File \"c:\\Users\\ivoto\\AppData\\Local\\Programs\\Python\\Python312\\venv\\Lib\\site-packages\\keras\\src\\backend\\tensorflow\\trainer.py\", line 60, in train_step\n\n  File \"c:\\Users\\ivoto\\AppData\\Local\\Programs\\Python\\Python312\\venv\\Lib\\site-packages\\keras\\src\\trainers\\trainer.py\", line 322, in compute_loss\n\n  File \"c:\\Users\\ivoto\\AppData\\Local\\Programs\\Python\\Python312\\venv\\Lib\\site-packages\\keras\\src\\trainers\\compile_utils.py\", line 605, in __call__\n\n  File \"c:\\Users\\ivoto\\AppData\\Local\\Programs\\Python\\Python312\\venv\\Lib\\site-packages\\keras\\src\\trainers\\compile_utils.py\", line 641, in call\n\n  File \"c:\\Users\\ivoto\\AppData\\Local\\Programs\\Python\\Python312\\venv\\Lib\\site-packages\\keras\\src\\losses\\loss.py\", line 42, in __call__\n\n  File \"c:\\Users\\ivoto\\AppData\\Local\\Programs\\Python\\Python312\\venv\\Lib\\site-packages\\keras\\src\\losses\\losses.py\", line 22, in call\n\n  File \"c:\\Users\\ivoto\\AppData\\Local\\Programs\\Python\\Python312\\venv\\Lib\\site-packages\\keras\\src\\losses\\losses.py\", line 1714, in sparse_categorical_crossentropy\n\n  File \"c:\\Users\\ivoto\\AppData\\Local\\Programs\\Python\\Python312\\venv\\Lib\\site-packages\\keras\\src\\ops\\nn.py\", line 1554, in sparse_categorical_crossentropy\n\n  File \"c:\\Users\\ivoto\\AppData\\Local\\Programs\\Python\\Python312\\venv\\Lib\\site-packages\\keras\\src\\backend\\tensorflow\\nn.py\", line 633, in sparse_categorical_crossentropy\n\nReceived a label value of 9 which is outside the valid range of [0, 5).  Label values: 8 5 7 0 0 4 8 2 5 6 6 9 4 3 3 2 7 2 6 9 5 7 2 7 1 1 4 3 6 6 0 6 3 1 7 6 6 5 3 1 3 1 0 4 2 2 9 5 5 8 5 6 7 0 1 8 5 7 4 8 3 5 9 5\n\t [[{{node compile_loss/sparse_categorical_crossentropy/SparseSoftmaxCrossEntropyWithLogits/SparseSoftmaxCrossEntropyWithLogits}}]] [Op:__inference_one_step_on_iterator_224005]"
          ]
        }
      ],
      "source": [
        "### Tu código de la red neuronal con 5 neuronas en la capa de salida de la pregunta 7 aquí ###\n",
        "### Tu código para 1024 neuronas aquí ###\n",
        "model128 = Sequential([\n",
        "    Flatten(input_shape=(28, 28)),    \n",
        "    Dense(128, activation='sigmoid'),\n",
        "    Dense(5, activation=\"softmax\")\n",
        "    ])\n",
        "model128.compile(\n",
        "    optimizer=\"adam\",\n",
        "    loss=\"sparse_categorical_crossentropy\",\n",
        "    metrics=['accuracy']\n",
        ")\n",
        "\n",
        "history128 = model128.fit(\n",
        "    training_images,\n",
        "    training_labels,\n",
        "    epochs=10,\n",
        "    batch_size=64,\n",
        "    validation_data=(test_images,test_labels)\n",
        ")"
      ]
    },
    {
      "cell_type": "markdown",
      "metadata": {
        "id": "SLsQcq-6aUoD"
      },
      "source": [
        "Tu respuestas a la pregunta 6.1 aquí:\n",
        "- La razón por la que tenemos 10 neuronas en la capa de salida es debido que a que tenemos 10 etiquetas, y la salida nos da la probabilidad de cada una de las etiquetas. "
      ]
    },
    {
      "cell_type": "markdown",
      "metadata": {
        "id": "J1f_7ZFeaUu6"
      },
      "source": [
        "Tu respuestas a la pregunta 6.2 aquí:\n",
        "- Si tenemos 5 capas en vez de 10, nos da un error, ya que el conjunto de datos tiene mas de 5 clases y el numero de salida de la capa final es menor, por lo que da error, ya que etiquetas ya no se corresponden con las salidas del modelo."
      ]
    },
    {
      "cell_type": "markdown",
      "metadata": {
        "id": "HNIBCkshaf2y"
      },
      "source": [
        "# 7: Aumento de epoch y su efecto en la red neuronal\n",
        "En este ejercicio vamos a ver el impacto de aumentar los epoch en el entrenamiento. Usando la red neuronal de la pregunta 1:\n",
        "\n",
        "**pregunta 7.1 (0.15 puntos)**\n",
        "* Intentad 15 epoch para su entrenamiento, probablemente obtendras un modelo con una pérdida mucho mejor que el que tiene 5.\n",
        "\n",
        "**pregunta 7.2 (0.15 puntos)**\n",
        "* Intenta ahora con 30 epoch para su entrenamiento, podrás ver que el valor de la pérdida deja de disminuir, y a veces aumenta.\n",
        "\n",
        "**pregunta 7.3 (0.30 puntos)**\n",
        "* ¿Porque que piensas que ocurre esto? Explica tu respuesta y da el nombre de este efecto si lo conoces."
      ]
    },
    {
      "cell_type": "code",
      "execution_count": null,
      "metadata": {
        "id": "Cb5vk_imG4iZ"
      },
      "outputs": [
        {
          "name": "stdout",
          "output_type": "stream",
          "text": [
            "Epoch 1/15\n",
            "\u001b[1m938/938\u001b[0m \u001b[32m━━━━━━━━━━━━━━━━━━━━\u001b[0m\u001b[37m\u001b[0m \u001b[1m2s\u001b[0m 1ms/step - accuracy: 0.7395 - loss: 0.8331 - val_accuracy: 0.8183 - val_loss: 0.4931\n",
            "Epoch 2/15\n",
            "\u001b[1m938/938\u001b[0m \u001b[32m━━━━━━━━━━━━━━━━━━━━\u001b[0m\u001b[37m\u001b[0m \u001b[1m1s\u001b[0m 1ms/step - accuracy: 0.8492 - loss: 0.4258 - val_accuracy: 0.8424 - val_loss: 0.4307\n",
            "Epoch 3/15\n",
            "\u001b[1m938/938\u001b[0m \u001b[32m━━━━━━━━━━━━━━━━━━━━\u001b[0m\u001b[37m\u001b[0m \u001b[1m1s\u001b[0m 997us/step - accuracy: 0.8632 - loss: 0.3826 - val_accuracy: 0.8523 - val_loss: 0.4079\n",
            "Epoch 4/15\n",
            "\u001b[1m938/938\u001b[0m \u001b[32m━━━━━━━━━━━━━━━━━━━━\u001b[0m\u001b[37m\u001b[0m \u001b[1m1s\u001b[0m 1ms/step - accuracy: 0.8750 - loss: 0.3446 - val_accuracy: 0.8641 - val_loss: 0.3776\n",
            "Epoch 5/15\n",
            "\u001b[1m938/938\u001b[0m \u001b[32m━━━━━━━━━━━━━━━━━━━━\u001b[0m\u001b[37m\u001b[0m \u001b[1m1s\u001b[0m 988us/step - accuracy: 0.8816 - loss: 0.3281 - val_accuracy: 0.8694 - val_loss: 0.3641\n",
            "Epoch 6/15\n",
            "\u001b[1m938/938\u001b[0m \u001b[32m━━━━━━━━━━━━━━━━━━━━\u001b[0m\u001b[37m\u001b[0m \u001b[1m1s\u001b[0m 976us/step - accuracy: 0.8869 - loss: 0.3151 - val_accuracy: 0.8698 - val_loss: 0.3621\n",
            "Epoch 7/15\n",
            "\u001b[1m938/938\u001b[0m \u001b[32m━━━━━━━━━━━━━━━━━━━━\u001b[0m\u001b[37m\u001b[0m \u001b[1m1s\u001b[0m 1ms/step - accuracy: 0.8904 - loss: 0.3005 - val_accuracy: 0.8709 - val_loss: 0.3487\n",
            "Epoch 8/15\n",
            "\u001b[1m938/938\u001b[0m \u001b[32m━━━━━━━━━━━━━━━━━━━━\u001b[0m\u001b[37m\u001b[0m \u001b[1m1s\u001b[0m 1ms/step - accuracy: 0.8934 - loss: 0.2892 - val_accuracy: 0.8694 - val_loss: 0.3567\n",
            "Epoch 9/15\n",
            "\u001b[1m938/938\u001b[0m \u001b[32m━━━━━━━━━━━━━━━━━━━━\u001b[0m\u001b[37m\u001b[0m \u001b[1m1s\u001b[0m 1ms/step - accuracy: 0.8979 - loss: 0.2811 - val_accuracy: 0.8686 - val_loss: 0.3523\n",
            "Epoch 10/15\n",
            "\u001b[1m938/938\u001b[0m \u001b[32m━━━━━━━━━━━━━━━━━━━━\u001b[0m\u001b[37m\u001b[0m \u001b[1m1s\u001b[0m 1ms/step - accuracy: 0.9024 - loss: 0.2696 - val_accuracy: 0.8742 - val_loss: 0.3399\n",
            "Epoch 11/15\n",
            "\u001b[1m938/938\u001b[0m \u001b[32m━━━━━━━━━━━━━━━━━━━━\u001b[0m\u001b[37m\u001b[0m \u001b[1m1s\u001b[0m 1ms/step - accuracy: 0.9051 - loss: 0.2596 - val_accuracy: 0.8765 - val_loss: 0.3432\n",
            "Epoch 12/15\n",
            "\u001b[1m938/938\u001b[0m \u001b[32m━━━━━━━━━━━━━━━━━━━━\u001b[0m\u001b[37m\u001b[0m \u001b[1m1s\u001b[0m 1ms/step - accuracy: 0.9057 - loss: 0.2556 - val_accuracy: 0.8801 - val_loss: 0.3274\n",
            "Epoch 13/15\n",
            "\u001b[1m938/938\u001b[0m \u001b[32m━━━━━━━━━━━━━━━━━━━━\u001b[0m\u001b[37m\u001b[0m \u001b[1m1s\u001b[0m 1ms/step - accuracy: 0.9090 - loss: 0.2439 - val_accuracy: 0.8781 - val_loss: 0.3354\n",
            "Epoch 14/15\n",
            "\u001b[1m938/938\u001b[0m \u001b[32m━━━━━━━━━━━━━━━━━━━━\u001b[0m\u001b[37m\u001b[0m \u001b[1m1s\u001b[0m 1ms/step - accuracy: 0.9105 - loss: 0.2424 - val_accuracy: 0.8828 - val_loss: 0.3264\n",
            "Epoch 15/15\n",
            "\u001b[1m938/938\u001b[0m \u001b[32m━━━━━━━━━━━━━━━━━━━━\u001b[0m\u001b[37m\u001b[0m \u001b[1m1s\u001b[0m 1ms/step - accuracy: 0.9160 - loss: 0.2285 - val_accuracy: 0.8848 - val_loss: 0.3199\n"
          ]
        }
      ],
      "source": [
        "### Tu código para 15 epoch aquí ###\n",
        "model128 = Sequential([\n",
        "    Flatten(input_shape=(28, 28)),    \n",
        "    Dense(128, activation='sigmoid'),\n",
        "    Dense(10, activation=\"softmax\")\n",
        "    ])\n",
        "model128.compile(\n",
        "    optimizer=\"adam\",\n",
        "    loss=\"sparse_categorical_crossentropy\",\n",
        "    metrics=['accuracy']\n",
        ")\n",
        "\n",
        "history128 = model128.fit(\n",
        "    training_images,\n",
        "    training_labels,\n",
        "    epochs=15,\n",
        "    batch_size=64,\n",
        "    validation_data=(test_images,test_labels)\n",
        ")"
      ]
    },
    {
      "cell_type": "code",
      "execution_count": null,
      "metadata": {
        "id": "I9jQ26Gda5cv"
      },
      "outputs": [
        {
          "name": "stdout",
          "output_type": "stream",
          "text": [
            "Epoch 1/30\n",
            "\u001b[1m938/938\u001b[0m \u001b[32m━━━━━━━━━━━━━━━━━━━━\u001b[0m\u001b[37m\u001b[0m \u001b[1m2s\u001b[0m 1ms/step - accuracy: 0.7400 - loss: 0.8257 - val_accuracy: 0.8381 - val_loss: 0.4589\n",
            "Epoch 2/30\n",
            "\u001b[1m938/938\u001b[0m \u001b[32m━━━━━━━━━━━━━━━━━━━━\u001b[0m\u001b[37m\u001b[0m \u001b[1m1s\u001b[0m 1ms/step - accuracy: 0.8523 - loss: 0.4157 - val_accuracy: 0.8503 - val_loss: 0.4192\n",
            "Epoch 3/30\n",
            "\u001b[1m938/938\u001b[0m \u001b[32m━━━━━━━━━━━━━━━━━━━━\u001b[0m\u001b[37m\u001b[0m \u001b[1m1s\u001b[0m 1ms/step - accuracy: 0.8644 - loss: 0.3797 - val_accuracy: 0.8568 - val_loss: 0.3949\n",
            "Epoch 4/30\n",
            "\u001b[1m938/938\u001b[0m \u001b[32m━━━━━━━━━━━━━━━━━━━━\u001b[0m\u001b[37m\u001b[0m \u001b[1m1s\u001b[0m 1ms/step - accuracy: 0.8731 - loss: 0.3531 - val_accuracy: 0.8622 - val_loss: 0.3860\n",
            "Epoch 5/30\n",
            "\u001b[1m938/938\u001b[0m \u001b[32m━━━━━━━━━━━━━━━━━━━━\u001b[0m\u001b[37m\u001b[0m \u001b[1m1s\u001b[0m 1ms/step - accuracy: 0.8769 - loss: 0.3359 - val_accuracy: 0.8679 - val_loss: 0.3689\n",
            "Epoch 6/30\n",
            "\u001b[1m938/938\u001b[0m \u001b[32m━━━━━━━━━━━━━━━━━━━━\u001b[0m\u001b[37m\u001b[0m \u001b[1m1s\u001b[0m 1ms/step - accuracy: 0.8862 - loss: 0.3143 - val_accuracy: 0.8669 - val_loss: 0.3618\n",
            "Epoch 7/30\n",
            "\u001b[1m938/938\u001b[0m \u001b[32m━━━━━━━━━━━━━━━━━━━━\u001b[0m\u001b[37m\u001b[0m \u001b[1m1s\u001b[0m 1ms/step - accuracy: 0.8886 - loss: 0.3016 - val_accuracy: 0.8735 - val_loss: 0.3525\n",
            "Epoch 8/30\n",
            "\u001b[1m938/938\u001b[0m \u001b[32m━━━━━━━━━━━━━━━━━━━━\u001b[0m\u001b[37m\u001b[0m \u001b[1m1s\u001b[0m 1ms/step - accuracy: 0.8959 - loss: 0.2878 - val_accuracy: 0.8767 - val_loss: 0.3480\n",
            "Epoch 9/30\n",
            "\u001b[1m938/938\u001b[0m \u001b[32m━━━━━━━━━━━━━━━━━━━━\u001b[0m\u001b[37m\u001b[0m \u001b[1m1s\u001b[0m 1ms/step - accuracy: 0.8983 - loss: 0.2800 - val_accuracy: 0.8691 - val_loss: 0.3520\n",
            "Epoch 10/30\n",
            "\u001b[1m938/938\u001b[0m \u001b[32m━━━━━━━━━━━━━━━━━━━━\u001b[0m\u001b[37m\u001b[0m \u001b[1m1s\u001b[0m 1ms/step - accuracy: 0.9008 - loss: 0.2705 - val_accuracy: 0.8786 - val_loss: 0.3328\n",
            "Epoch 11/30\n",
            "\u001b[1m938/938\u001b[0m \u001b[32m━━━━━━━━━━━━━━━━━━━━\u001b[0m\u001b[37m\u001b[0m \u001b[1m1s\u001b[0m 1ms/step - accuracy: 0.9043 - loss: 0.2630 - val_accuracy: 0.8748 - val_loss: 0.3499\n",
            "Epoch 12/30\n",
            "\u001b[1m938/938\u001b[0m \u001b[32m━━━━━━━━━━━━━━━━━━━━\u001b[0m\u001b[37m\u001b[0m \u001b[1m1s\u001b[0m 1ms/step - accuracy: 0.9079 - loss: 0.2527 - val_accuracy: 0.8802 - val_loss: 0.3364\n",
            "Epoch 13/30\n",
            "\u001b[1m938/938\u001b[0m \u001b[32m━━━━━━━━━━━━━━━━━━━━\u001b[0m\u001b[37m\u001b[0m \u001b[1m1s\u001b[0m 1ms/step - accuracy: 0.9113 - loss: 0.2420 - val_accuracy: 0.8812 - val_loss: 0.3278\n",
            "Epoch 14/30\n",
            "\u001b[1m938/938\u001b[0m \u001b[32m━━━━━━━━━━━━━━━━━━━━\u001b[0m\u001b[37m\u001b[0m \u001b[1m1s\u001b[0m 1ms/step - accuracy: 0.9117 - loss: 0.2349 - val_accuracy: 0.8797 - val_loss: 0.3298\n",
            "Epoch 15/30\n",
            "\u001b[1m938/938\u001b[0m \u001b[32m━━━━━━━━━━━━━━━━━━━━\u001b[0m\u001b[37m\u001b[0m \u001b[1m1s\u001b[0m 1ms/step - accuracy: 0.9158 - loss: 0.2312 - val_accuracy: 0.8848 - val_loss: 0.3208\n",
            "Epoch 16/30\n",
            "\u001b[1m938/938\u001b[0m \u001b[32m━━━━━━━━━━━━━━━━━━━━\u001b[0m\u001b[37m\u001b[0m \u001b[1m1s\u001b[0m 1ms/step - accuracy: 0.9158 - loss: 0.2283 - val_accuracy: 0.8826 - val_loss: 0.3263\n",
            "Epoch 17/30\n",
            "\u001b[1m938/938\u001b[0m \u001b[32m━━━━━━━━━━━━━━━━━━━━\u001b[0m\u001b[37m\u001b[0m \u001b[1m1s\u001b[0m 1ms/step - accuracy: 0.9196 - loss: 0.2175 - val_accuracy: 0.8850 - val_loss: 0.3208\n",
            "Epoch 18/30\n",
            "\u001b[1m938/938\u001b[0m \u001b[32m━━━━━━━━━━━━━━━━━━━━\u001b[0m\u001b[37m\u001b[0m \u001b[1m1s\u001b[0m 1ms/step - accuracy: 0.9205 - loss: 0.2152 - val_accuracy: 0.8869 - val_loss: 0.3196\n",
            "Epoch 19/30\n",
            "\u001b[1m938/938\u001b[0m \u001b[32m━━━━━━━━━━━━━━━━━━━━\u001b[0m\u001b[37m\u001b[0m \u001b[1m1s\u001b[0m 1ms/step - accuracy: 0.9230 - loss: 0.2091 - val_accuracy: 0.8851 - val_loss: 0.3213\n",
            "Epoch 20/30\n",
            "\u001b[1m938/938\u001b[0m \u001b[32m━━━━━━━━━━━━━━━━━━━━\u001b[0m\u001b[37m\u001b[0m \u001b[1m1s\u001b[0m 1ms/step - accuracy: 0.9231 - loss: 0.2063 - val_accuracy: 0.8861 - val_loss: 0.3237\n",
            "Epoch 21/30\n",
            "\u001b[1m938/938\u001b[0m \u001b[32m━━━━━━━━━━━━━━━━━━━━\u001b[0m\u001b[37m\u001b[0m \u001b[1m1s\u001b[0m 1ms/step - accuracy: 0.9272 - loss: 0.2021 - val_accuracy: 0.8868 - val_loss: 0.3194\n",
            "Epoch 22/30\n",
            "\u001b[1m938/938\u001b[0m \u001b[32m━━━━━━━━━━━━━━━━━━━━\u001b[0m\u001b[37m\u001b[0m \u001b[1m1s\u001b[0m 1ms/step - accuracy: 0.9304 - loss: 0.1919 - val_accuracy: 0.8886 - val_loss: 0.3167\n",
            "Epoch 23/30\n",
            "\u001b[1m938/938\u001b[0m \u001b[32m━━━━━━━━━━━━━━━━━━━━\u001b[0m\u001b[37m\u001b[0m \u001b[1m1s\u001b[0m 1ms/step - accuracy: 0.9313 - loss: 0.1893 - val_accuracy: 0.8896 - val_loss: 0.3215\n",
            "Epoch 24/30\n",
            "\u001b[1m938/938\u001b[0m \u001b[32m━━━━━━━━━━━━━━━━━━━━\u001b[0m\u001b[37m\u001b[0m \u001b[1m1s\u001b[0m 1ms/step - accuracy: 0.9321 - loss: 0.1885 - val_accuracy: 0.8821 - val_loss: 0.3358\n",
            "Epoch 25/30\n",
            "\u001b[1m938/938\u001b[0m \u001b[32m━━━━━━━━━━━━━━━━━━━━\u001b[0m\u001b[37m\u001b[0m \u001b[1m1s\u001b[0m 1ms/step - accuracy: 0.9343 - loss: 0.1810 - val_accuracy: 0.8816 - val_loss: 0.3343\n",
            "Epoch 26/30\n",
            "\u001b[1m938/938\u001b[0m \u001b[32m━━━━━━━━━━━━━━━━━━━━\u001b[0m\u001b[37m\u001b[0m \u001b[1m1s\u001b[0m 1ms/step - accuracy: 0.9360 - loss: 0.1793 - val_accuracy: 0.8853 - val_loss: 0.3330\n",
            "Epoch 27/30\n",
            "\u001b[1m938/938\u001b[0m \u001b[32m━━━━━━━━━━━━━━━━━━━━\u001b[0m\u001b[37m\u001b[0m \u001b[1m1s\u001b[0m 1ms/step - accuracy: 0.9357 - loss: 0.1793 - val_accuracy: 0.8897 - val_loss: 0.3164\n",
            "Epoch 28/30\n",
            "\u001b[1m938/938\u001b[0m \u001b[32m━━━━━━━━━━━━━━━━━━━━\u001b[0m\u001b[37m\u001b[0m \u001b[1m1s\u001b[0m 1ms/step - accuracy: 0.9384 - loss: 0.1711 - val_accuracy: 0.8895 - val_loss: 0.3191\n",
            "Epoch 29/30\n",
            "\u001b[1m938/938\u001b[0m \u001b[32m━━━━━━━━━━━━━━━━━━━━\u001b[0m\u001b[37m\u001b[0m \u001b[1m1s\u001b[0m 1ms/step - accuracy: 0.9401 - loss: 0.1663 - val_accuracy: 0.8849 - val_loss: 0.3297\n",
            "Epoch 30/30\n",
            "\u001b[1m938/938\u001b[0m \u001b[32m━━━━━━━━━━━━━━━━━━━━\u001b[0m\u001b[37m\u001b[0m \u001b[1m1s\u001b[0m 1ms/step - accuracy: 0.9434 - loss: 0.1596 - val_accuracy: 0.8901 - val_loss: 0.3198\n"
          ]
        }
      ],
      "source": [
        "### Tu código para 30 epoch aquí ###\n",
        "model128 = Sequential([\n",
        "    Flatten(input_shape=(28, 28)),    \n",
        "    Dense(128, activation='sigmoid'),\n",
        "    Dense(10, activation=\"softmax\")\n",
        "    ])\n",
        "model128.compile(\n",
        "    optimizer=\"adam\",\n",
        "    loss=\"sparse_categorical_crossentropy\",\n",
        "    metrics=['accuracy']\n",
        ")\n",
        "\n",
        "history128 = model128.fit(\n",
        "    training_images,\n",
        "    training_labels,\n",
        "    epochs=30,\n",
        "    batch_size=64,\n",
        "    validation_data=(test_images,test_labels)\n",
        ")"
      ]
    },
    {
      "cell_type": "markdown",
      "metadata": {
        "id": "Fs0fjzH4bmSR"
      },
      "source": [
        "Tu respuesta a la pregunta 7.3 aquí:\n",
        "- En el caso del entrenamiento con 30 epocas, notamos que en cada epoca el valor de perdida disminuyes, pero luego de la epoca 11, el valor de perdida empieza a aumentar ligeramente, esto se debe a que el modelo esta aprendiendo tambien del ruido en los datos y las anomalías, esto hace que el modelo sea muy específico y pierda capacidad de generalización de los datos (overfitting)"
      ]
    },
    {
      "cell_type": "markdown",
      "metadata": {
        "id": "HlIgNG4Yb_N6"
      },
      "source": [
        "# 8: Early stop\n",
        "En el ejercicio anterior, cuando entrenabas con epoch extras, tenías un problema en el que tu pérdida podía cambiar. Puede que te haya llevado un poco de tiempo esperar a que el entrenamiento lo hiciera,  y puede que hayas pensado \"¿no estaría bien si pudiera parar el entrenamiento cuando alcance un valor deseado?\", es decir, una precisión del 85% podría ser suficiente para ti, y si alcanzas eso después de 3 epoch, ¿por qué sentarte a esperar a que termine muchas más épocas? Como cualquier otro programa existen formas de parar la ejecución\n",
        "\n",
        "A partir del código de ejemplo, hacer una nueva función que tenga en cuenta la perdida (loss) y que pueda parar el código para evitar que ocurra el efeto secundario que vimos en el ejercicio 5."
      ]
    },
    {
      "cell_type": "code",
      "execution_count": null,
      "metadata": {
        "id": "b5UwceFUG4ic"
      },
      "outputs": [
        {
          "name": "stderr",
          "output_type": "stream",
          "text": [
            "c:\\Users\\ivoto\\AppData\\Local\\Programs\\Python\\Python312\\venv\\Lib\\site-packages\\keras\\src\\layers\\reshaping\\flatten.py:37: UserWarning: Do not pass an `input_shape`/`input_dim` argument to a layer. When using Sequential models, prefer using an `Input(shape)` object as the first layer in the model instead.\n",
            "  super().__init__(**kwargs)\n"
          ]
        },
        {
          "name": "stdout",
          "output_type": "stream",
          "text": [
            "Epoch 1/30\n",
            "\u001b[1m938/938\u001b[0m \u001b[32m━━━━━━━━━━━━━━━━━━━━\u001b[0m\u001b[37m\u001b[0m \u001b[1m1s\u001b[0m 1ms/step - accuracy: 0.7353 - loss: 0.8270 - val_accuracy: 0.8331 - val_loss: 0.4626\n",
            "Epoch 2/30\n",
            "\u001b[1m896/938\u001b[0m \u001b[32m━━━━━━━━━━━━━━━━━━━\u001b[0m\u001b[37m━\u001b[0m \u001b[1m0s\u001b[0m 847us/step - accuracy: 0.8541 - loss: 0.4184\n",
            "Alcanzado el 85% de precisión, se cancela el entrenamiento!!\n",
            "\u001b[1m938/938\u001b[0m \u001b[32m━━━━━━━━━━━━━━━━━━━━\u001b[0m\u001b[37m\u001b[0m \u001b[1m1s\u001b[0m 950us/step - accuracy: 0.8541 - loss: 0.4181 - val_accuracy: 0.8407 - val_loss: 0.4323\n"
          ]
        }
      ],
      "source": [
        "### Ejemplo de código\n",
        "\n",
        "class myCallback(tf.keras.callbacks.Callback):\n",
        "      def on_epoch_end(self, epoch, logs={}):\n",
        "        if(logs.get('accuracy')> 0.85):\n",
        "              print(\"\\nAlcanzado el 85% de precisión, se cancela el entrenamiento!!\")\n",
        "              self.model.stop_training = True\n",
        "\n",
        "model128 = Sequential([\n",
        "    Flatten(input_shape=(28, 28)),    \n",
        "    Dense(128, activation='sigmoid'),\n",
        "    Dense(10, activation=\"softmax\")\n",
        "    ])\n",
        "model128.compile(\n",
        "    optimizer=\"adam\",\n",
        "    loss=\"sparse_categorical_crossentropy\",\n",
        "    metrics=['accuracy']\n",
        ")\n",
        "callbacks = myCallback()\n",
        "\n",
        "history128 = model128.fit(\n",
        "    training_images,\n",
        "    training_labels,\n",
        "    epochs=30,\n",
        "    batch_size=64,\n",
        "    validation_data=(test_images,test_labels),\n",
        "    callbacks=[callbacks]\n",
        ")"
      ]
    },
    {
      "cell_type": "markdown",
      "metadata": {
        "id": "0Bjd8wGKccrn"
      },
      "source": [
        "**Ejercicio 8 *(0.75 puntos)***: Completa el siguiente código con una clase callback que una vez alcanzado el 40% de perdida detenga el entrenamiento."
      ]
    },
    {
      "cell_type": "code",
      "execution_count": null,
      "metadata": {
        "id": "29LSfdOvc270"
      },
      "outputs": [
        {
          "name": "stdout",
          "output_type": "stream",
          "text": [
            "2.16.1\n",
            "Epoch 1/50\n",
            "\u001b[1m1875/1875\u001b[0m \u001b[32m━━━━━━━━━━━━━━━━━━━━\u001b[0m\u001b[37m\u001b[0m \u001b[1m3s\u001b[0m 2ms/step - accuracy: 0.7876 - loss: 0.5977\n",
            "Epoch 2/50\n",
            "\u001b[1m1869/1875\u001b[0m \u001b[32m━━━━━━━━━━━━━━━━━━━\u001b[0m\u001b[37m━\u001b[0m \u001b[1m0s\u001b[0m 2ms/step - accuracy: 0.8658 - loss: 0.3685\n",
            "Alcanzado el 40% de loss, se cancela el entrenamiento!!\n",
            "\u001b[1m1875/1875\u001b[0m \u001b[32m━━━━━━━━━━━━━━━━━━━━\u001b[0m\u001b[37m\u001b[0m \u001b[1m3s\u001b[0m 2ms/step - accuracy: 0.8658 - loss: 0.3684\n"
          ]
        },
        {
          "data": {
            "text/plain": [
              "<keras.src.callbacks.history.History at 0x23b9cd3ea50>"
            ]
          },
          "execution_count": 16,
          "metadata": {},
          "output_type": "execute_result"
        }
      ],
      "source": [
        "import tensorflow as tf\n",
        "print(tf.__version__)\n",
        "\n",
        "### Tu código de la función callback para parar el entrenamiento de la red neuronal al 40% de loss aqui: ###\n",
        "class myCallback(tf.keras.callbacks.Callback):\n",
        "      def on_epoch_end(self, epoch, logs={}):\n",
        "        if(logs.get('loss') <  0.4):\n",
        "              print(\"\\nAlcanzado el 40% de loss, se cancela el entrenamiento!!\")\n",
        "              self.model.stop_training = True\n",
        "\n",
        "\n",
        "callbacks = myCallback()\n",
        "mnist = tf.keras.datasets.fashion_mnist\n",
        "(training_images, training_labels) ,  (test_images, test_labels) = mnist.load_data()\n",
        "\n",
        "training_images = training_images/255.0\n",
        "test_images = test_images/255.0\n",
        "\n",
        "model = tf.keras.models.Sequential([tf.keras.layers.Flatten(),\n",
        "                                    tf.keras.layers.Dense(512, activation=tf.nn.relu),\n",
        "                                    tf.keras.layers.Dense(10, activation=tf.nn.softmax)])\n",
        "\n",
        "model.compile(optimizer = 'adam',\n",
        "              loss = 'sparse_categorical_crossentropy',\n",
        "              metrics=['accuracy']) \n",
        "\n",
        "model.fit(training_images, training_labels, epochs=50, callbacks=[callbacks])"
      ]
    },
    {
      "cell_type": "markdown",
      "metadata": {
        "id": "M_yZ9B8gTFqR"
      },
      "source": [
        "## 9. Unidades de activación"
      ]
    },
    {
      "cell_type": "markdown",
      "metadata": {
        "id": "MuVNxmXSTFqR"
      },
      "source": [
        "En este ejercicio, vamos a evaluar la importancia de utilizar las unidades de activación adecuadas. Como hemos visto en clase, funciones de activación como sigmoid han dejado de utilizarse en favor de otras unidades como ReLU.\n",
        "\n",
        "**Ejercicio 9 *(0.75 puntos)***: Partiendo de una red sencilla como la desarrollada en el Trabajo 1, escribir un breve análisis comparando la utilización de unidades sigmoid y ReLU (por ejemplo, se pueden comentar aspectos como velocidad de convergencia, métricas obtenidas...). Explicar por qué pueden darse estas diferencias. Opcionalmente, comparar con otras activaciones disponibles en Keras.\n",
        "\n",
        "*Pista: Usando redes más grandes se hace más sencillo apreciar las diferencias. Es mejor utilizar al menos 3 o 4 capas densas.*"
      ]
    },
    {
      "cell_type": "code",
      "execution_count": null,
      "metadata": {
        "id": "hoYUajTuTFqS"
      },
      "outputs": [
        {
          "name": "stdout",
          "output_type": "stream",
          "text": [
            "Epoch 1/10\n",
            "\u001b[1m938/938\u001b[0m \u001b[32m━━━━━━━━━━━━━━━━━━━━\u001b[0m\u001b[37m\u001b[0m \u001b[1m4s\u001b[0m 4ms/step - accuracy: 0.5954 - loss: 1.0648 - val_accuracy: 0.8309 - val_loss: 0.4683\n",
            "Epoch 2/10\n",
            "\u001b[1m938/938\u001b[0m \u001b[32m━━━━━━━━━━━━━━━━━━━━\u001b[0m\u001b[37m\u001b[0m \u001b[1m3s\u001b[0m 4ms/step - accuracy: 0.8388 - loss: 0.4459 - val_accuracy: 0.8500 - val_loss: 0.4149\n",
            "Epoch 3/10\n",
            "\u001b[1m938/938\u001b[0m \u001b[32m━━━━━━━━━━━━━━━━━━━━\u001b[0m\u001b[37m\u001b[0m \u001b[1m3s\u001b[0m 4ms/step - accuracy: 0.8639 - loss: 0.3790 - val_accuracy: 0.8525 - val_loss: 0.4040\n",
            "Epoch 4/10\n",
            "\u001b[1m938/938\u001b[0m \u001b[32m━━━━━━━━━━━━━━━━━━━━\u001b[0m\u001b[37m\u001b[0m \u001b[1m3s\u001b[0m 4ms/step - accuracy: 0.8728 - loss: 0.3502 - val_accuracy: 0.8616 - val_loss: 0.3788\n",
            "Epoch 5/10\n",
            "\u001b[1m938/938\u001b[0m \u001b[32m━━━━━━━━━━━━━━━━━━━━\u001b[0m\u001b[37m\u001b[0m \u001b[1m3s\u001b[0m 4ms/step - accuracy: 0.8803 - loss: 0.3308 - val_accuracy: 0.8667 - val_loss: 0.3643\n",
            "Epoch 6/10\n",
            "\u001b[1m938/938\u001b[0m \u001b[32m━━━━━━━━━━━━━━━━━━━━\u001b[0m\u001b[37m\u001b[0m \u001b[1m3s\u001b[0m 4ms/step - accuracy: 0.8843 - loss: 0.3141 - val_accuracy: 0.8654 - val_loss: 0.3711\n",
            "Epoch 7/10\n",
            "\u001b[1m938/938\u001b[0m \u001b[32m━━━━━━━━━━━━━━━━━━━━\u001b[0m\u001b[37m\u001b[0m \u001b[1m4s\u001b[0m 4ms/step - accuracy: 0.8900 - loss: 0.2958 - val_accuracy: 0.8734 - val_loss: 0.3507\n",
            "Epoch 8/10\n",
            "\u001b[1m938/938\u001b[0m \u001b[32m━━━━━━━━━━━━━━━━━━━━\u001b[0m\u001b[37m\u001b[0m \u001b[1m3s\u001b[0m 4ms/step - accuracy: 0.8947 - loss: 0.2854 - val_accuracy: 0.8688 - val_loss: 0.3627\n",
            "Epoch 9/10\n",
            "\u001b[1m938/938\u001b[0m \u001b[32m━━━━━━━━━━━━━━━━━━━━\u001b[0m\u001b[37m\u001b[0m \u001b[1m3s\u001b[0m 4ms/step - accuracy: 0.8945 - loss: 0.2814 - val_accuracy: 0.8709 - val_loss: 0.3608\n",
            "Epoch 10/10\n",
            "\u001b[1m938/938\u001b[0m \u001b[32m━━━━━━━━━━━━━━━━━━━━\u001b[0m\u001b[37m\u001b[0m \u001b[1m3s\u001b[0m 4ms/step - accuracy: 0.9004 - loss: 0.2724 - val_accuracy: 0.8766 - val_loss: 0.3431\n",
            "Tiempo de entrenamiento con Sigmoid: 35.551504611968994 segundos\n",
            "Epoch 1/10\n",
            "\u001b[1m938/938\u001b[0m \u001b[32m━━━━━━━━━━━━━━━━━━━━\u001b[0m\u001b[37m\u001b[0m \u001b[1m4s\u001b[0m 4ms/step - accuracy: 0.7808 - loss: 0.6134 - val_accuracy: 0.8542 - val_loss: 0.4049\n",
            "Epoch 2/10\n",
            "\u001b[1m938/938\u001b[0m \u001b[32m━━━━━━━━━━━━━━━━━━━━\u001b[0m\u001b[37m\u001b[0m \u001b[1m3s\u001b[0m 4ms/step - accuracy: 0.8663 - loss: 0.3607 - val_accuracy: 0.8628 - val_loss: 0.3862\n",
            "Epoch 3/10\n",
            "\u001b[1m938/938\u001b[0m \u001b[32m━━━━━━━━━━━━━━━━━━━━\u001b[0m\u001b[37m\u001b[0m \u001b[1m3s\u001b[0m 4ms/step - accuracy: 0.8810 - loss: 0.3160 - val_accuracy: 0.8701 - val_loss: 0.3538\n",
            "Epoch 4/10\n",
            "\u001b[1m938/938\u001b[0m \u001b[32m━━━━━━━━━━━━━━━━━━━━\u001b[0m\u001b[37m\u001b[0m \u001b[1m3s\u001b[0m 4ms/step - accuracy: 0.8890 - loss: 0.2972 - val_accuracy: 0.8676 - val_loss: 0.3543\n",
            "Epoch 5/10\n",
            "\u001b[1m938/938\u001b[0m \u001b[32m━━━━━━━━━━━━━━━━━━━━\u001b[0m\u001b[37m\u001b[0m \u001b[1m4s\u001b[0m 4ms/step - accuracy: 0.8937 - loss: 0.2802 - val_accuracy: 0.8763 - val_loss: 0.3507\n",
            "Epoch 6/10\n",
            "\u001b[1m938/938\u001b[0m \u001b[32m━━━━━━━━━━━━━━━━━━━━\u001b[0m\u001b[37m\u001b[0m \u001b[1m4s\u001b[0m 4ms/step - accuracy: 0.8960 - loss: 0.2688 - val_accuracy: 0.8764 - val_loss: 0.3476\n",
            "Epoch 7/10\n",
            "\u001b[1m938/938\u001b[0m \u001b[32m━━━━━━━━━━━━━━━━━━━━\u001b[0m\u001b[37m\u001b[0m \u001b[1m3s\u001b[0m 4ms/step - accuracy: 0.9048 - loss: 0.2537 - val_accuracy: 0.8776 - val_loss: 0.3623\n",
            "Epoch 8/10\n",
            "\u001b[1m938/938\u001b[0m \u001b[32m━━━━━━━━━━━━━━━━━━━━\u001b[0m\u001b[37m\u001b[0m \u001b[1m3s\u001b[0m 4ms/step - accuracy: 0.9055 - loss: 0.2471 - val_accuracy: 0.8802 - val_loss: 0.3546\n",
            "Epoch 9/10\n",
            "\u001b[1m938/938\u001b[0m \u001b[32m━━━━━━━━━━━━━━━━━━━━\u001b[0m\u001b[37m\u001b[0m \u001b[1m3s\u001b[0m 4ms/step - accuracy: 0.9125 - loss: 0.2308 - val_accuracy: 0.8764 - val_loss: 0.3559\n",
            "Epoch 10/10\n",
            "\u001b[1m938/938\u001b[0m \u001b[32m━━━━━━━━━━━━━━━━━━━━\u001b[0m\u001b[37m\u001b[0m \u001b[1m3s\u001b[0m 4ms/step - accuracy: 0.9172 - loss: 0.2216 - val_accuracy: 0.8780 - val_loss: 0.3739\n",
            "Tiempo de entrenamiento con Relu: 35.02082967758179 segundos\n"
          ]
        }
      ],
      "source": [
        "## Tu código y comentarios de texto aquí\n",
        "## Puedes incluir tantas celdas como quieras\n",
        "## No olvides utilizar celdas de Markdown para texto\n",
        "### Tu código para 30 epoch aquí ###\n",
        "import time\n",
        "\n",
        "def build_model(activation):\n",
        "    model = Sequential([\n",
        "        Flatten(input_shape=(28, 28)),\n",
        "        Dense(128, activation=activation),\n",
        "        Dense(512, activation=activation),\n",
        "        Dense(1024, activation=activation),\n",
        "        Dense(10, activation='softmax')\n",
        "    ])\n",
        "    model.compile(optimizer='adam',\n",
        "                  loss='sparse_categorical_crossentropy',\n",
        "                  metrics=['accuracy'])\n",
        "    return model\n",
        "\n",
        "# Modelo con Sigmoid\n",
        "model_sigmoid = build_model('sigmoid')\n",
        "start_time = time.time()\n",
        "history_sigmoid = model_sigmoid.fit(\n",
        "    training_images,\n",
        "    training_labels,\n",
        "    epochs=10,\n",
        "    batch_size=64,\n",
        "    validation_data=(test_images,test_labels))\n",
        "end_time = time.time()\n",
        "print(f\"Tiempo de entrenamiento con Sigmoid: {end_time - start_time} segundos\")\n",
        "\n",
        "# Modelo con ReLU\n",
        "model_relu = build_model('relu')\n",
        "start_time = time.time()\n",
        "history_relu = model_relu.fit(\n",
        "    training_images,\n",
        "    training_labels,\n",
        "     epochs=10,\n",
        "    batch_size=64,\n",
        "    validation_data=(test_images,test_labels))\n",
        "end_time = time.time()\n",
        "print(f\"Tiempo de entrenamiento con Relu: {end_time - start_time} segundos\")"
      ]
    },
    {
      "cell_type": "markdown",
      "metadata": {},
      "source": [
        "- Se observa que con la configuración actual Relu converje más rápido, por lo que da como resultado un tiempo de entrenamiento menor en comparación con la función de activación sigmoide, esto se debe a que Relu es mas simple en sus cálculos ya que sigmoid requiere calculos de exponenciales. \n",
        "- Relu permite una convergencia más rápida porque tiene una derivada constante de 1 para todos los inputs positivos, lo que ayuda al problema del gradiente desvaneciente y acelera el aprendizaje."
      ]
    },
    {
      "cell_type": "markdown",
      "metadata": {
        "id": "pu6RbUFKTFqT"
      },
      "source": [
        "## 10. Inicialización de parámetros"
      ]
    },
    {
      "cell_type": "markdown",
      "metadata": {
        "id": "Abmm05UPTFqU"
      },
      "source": [
        "En este ejercicio, vamos a evaluar la importancia de una correcta inicialización de parámetros en una red neuronal.\n",
        "\n",
        "**Ejercicio 10 *(0.75 puntos)***: Partiendo de una red similar a la del ejercicio anterior (usando ya ReLUs), comentar las diferencias que se aprecian en el entrenamiento al utilizar distintas estrategias de inicialización de parámetros. Para ello, inicializar todas las capas con las siguientes estrategias, disponibles en Keras, y analizar sus diferencias:\n",
        "\n",
        "* Inicialización con ceros.\n",
        "* Inicialización con una variable aleatoria normal.\n",
        "* Inicialización con los valores por defecto de Keras para una capa Dense (estrategia *glorot uniform*)"
      ]
    },
    {
      "cell_type": "code",
      "execution_count": null,
      "metadata": {
        "id": "qcMt7pSkTFqU"
      },
      "outputs": [
        {
          "name": "stdout",
          "output_type": "stream",
          "text": [
            "Epoch 1/10\n"
          ]
        },
        {
          "name": "stderr",
          "output_type": "stream",
          "text": [
            "/Users/ivo/anaconda3/lib/python3.11/site-packages/keras/initializers/initializers.py:120: UserWarning: The initializer RandomNormal is unseeded and being called multiple times, which will return identical values each time (even if the initializer is unseeded). Please update your code to provide a seed to the initializer, or avoid using the same initalizer instance more than once.\n",
            "  warnings.warn(\n",
            "/Users/ivo/anaconda3/lib/python3.11/site-packages/keras/initializers/initializers.py:120: UserWarning: The initializer GlorotUniform is unseeded and being called multiple times, which will return identical values each time (even if the initializer is unseeded). Please update your code to provide a seed to the initializer, or avoid using the same initalizer instance more than once.\n",
            "  warnings.warn(\n"
          ]
        },
        {
          "name": "stdout",
          "output_type": "stream",
          "text": [
            "938/938 [==============================] - 1s 1ms/step - loss: 2.3027 - accuracy: 0.0980 - val_loss: 2.3026 - val_accuracy: 0.1000\n",
            "Epoch 2/10\n",
            "938/938 [==============================] - 1s 894us/step - loss: 2.3027 - accuracy: 0.0988 - val_loss: 2.3026 - val_accuracy: 0.1000\n",
            "Epoch 3/10\n",
            "938/938 [==============================] - 1s 893us/step - loss: 2.3027 - accuracy: 0.0970 - val_loss: 2.3026 - val_accuracy: 0.1000\n",
            "Epoch 4/10\n",
            "938/938 [==============================] - 1s 971us/step - loss: 2.3027 - accuracy: 0.0980 - val_loss: 2.3026 - val_accuracy: 0.1000\n",
            "Epoch 5/10\n",
            "938/938 [==============================] - 1s 892us/step - loss: 2.3028 - accuracy: 0.0991 - val_loss: 2.3026 - val_accuracy: 0.1000\n",
            "Epoch 6/10\n",
            "938/938 [==============================] - 1s 928us/step - loss: 2.3027 - accuracy: 0.0981 - val_loss: 2.3026 - val_accuracy: 0.1000\n",
            "Epoch 7/10\n",
            "938/938 [==============================] - 1s 913us/step - loss: 2.3027 - accuracy: 0.0980 - val_loss: 2.3026 - val_accuracy: 0.1000\n",
            "Epoch 8/10\n",
            "938/938 [==============================] - 1s 888us/step - loss: 2.3027 - accuracy: 0.0989 - val_loss: 2.3026 - val_accuracy: 0.1000\n",
            "Epoch 9/10\n",
            "938/938 [==============================] - 1s 1ms/step - loss: 2.3027 - accuracy: 0.0959 - val_loss: 2.3026 - val_accuracy: 0.1000\n",
            "Epoch 10/10\n",
            "938/938 [==============================] - 1s 1ms/step - loss: 2.3027 - accuracy: 0.0984 - val_loss: 2.3026 - val_accuracy: 0.1000\n",
            "Tiempo de entrenamiento con model_zeros: 9.152045011520386 segundos\n",
            "Epoch 1/10\n",
            "938/938 [==============================] - 1s 1ms/step - loss: 0.5480 - accuracy: 0.8024 - val_loss: 0.4170 - val_accuracy: 0.8487\n",
            "Epoch 2/10\n",
            "938/938 [==============================] - 1s 1ms/step - loss: 0.3767 - accuracy: 0.8619 - val_loss: 0.3880 - val_accuracy: 0.8598\n",
            "Epoch 3/10\n",
            "938/938 [==============================] - 1s 942us/step - loss: 0.3367 - accuracy: 0.8744 - val_loss: 0.3791 - val_accuracy: 0.8616\n",
            "Epoch 4/10\n",
            "938/938 [==============================] - 1s 919us/step - loss: 0.3131 - accuracy: 0.8828 - val_loss: 0.3603 - val_accuracy: 0.8704\n",
            "Epoch 5/10\n",
            "938/938 [==============================] - 1s 946us/step - loss: 0.2951 - accuracy: 0.8909 - val_loss: 0.3472 - val_accuracy: 0.8771\n",
            "Epoch 6/10\n",
            "938/938 [==============================] - 1s 954us/step - loss: 0.2815 - accuracy: 0.8949 - val_loss: 0.3408 - val_accuracy: 0.8766\n",
            "Epoch 7/10\n",
            "938/938 [==============================] - 1s 932us/step - loss: 0.2681 - accuracy: 0.8991 - val_loss: 0.3411 - val_accuracy: 0.8784\n",
            "Epoch 8/10\n",
            "938/938 [==============================] - 1s 973us/step - loss: 0.2580 - accuracy: 0.9019 - val_loss: 0.3314 - val_accuracy: 0.8803\n",
            "Epoch 9/10\n",
            "938/938 [==============================] - 1s 945us/step - loss: 0.2463 - accuracy: 0.9078 - val_loss: 0.3229 - val_accuracy: 0.8877\n",
            "Epoch 10/10\n",
            "938/938 [==============================] - 1s 988us/step - loss: 0.2352 - accuracy: 0.9115 - val_loss: 0.3342 - val_accuracy: 0.8801\n",
            "Tiempo de entrenamiento con model_normal: 9.591294050216675 segundos\n",
            "Epoch 1/10\n",
            "938/938 [==============================] - 1s 1ms/step - loss: 0.5081 - accuracy: 0.8193 - val_loss: 0.4131 - val_accuracy: 0.8518\n",
            "Epoch 2/10\n",
            "938/938 [==============================] - 1s 1ms/step - loss: 0.3639 - accuracy: 0.8665 - val_loss: 0.3725 - val_accuracy: 0.8665\n",
            "Epoch 3/10\n",
            "938/938 [==============================] - 1s 1ms/step - loss: 0.3288 - accuracy: 0.8793 - val_loss: 0.3618 - val_accuracy: 0.8712\n",
            "Epoch 4/10\n",
            "938/938 [==============================] - 1s 1ms/step - loss: 0.3062 - accuracy: 0.8863 - val_loss: 0.3636 - val_accuracy: 0.8659\n",
            "Epoch 5/10\n",
            "938/938 [==============================] - 1s 1ms/step - loss: 0.2905 - accuracy: 0.8925 - val_loss: 0.3514 - val_accuracy: 0.8742\n",
            "Epoch 6/10\n",
            "938/938 [==============================] - 1s 1ms/step - loss: 0.2759 - accuracy: 0.8965 - val_loss: 0.3539 - val_accuracy: 0.8744\n",
            "Epoch 7/10\n",
            "938/938 [==============================] - 1s 1ms/step - loss: 0.2618 - accuracy: 0.9011 - val_loss: 0.3330 - val_accuracy: 0.8802\n",
            "Epoch 8/10\n",
            "938/938 [==============================] - 1s 1ms/step - loss: 0.2528 - accuracy: 0.9038 - val_loss: 0.3360 - val_accuracy: 0.8827\n",
            "Epoch 9/10\n",
            "938/938 [==============================] - 1s 990us/step - loss: 0.2425 - accuracy: 0.9089 - val_loss: 0.3449 - val_accuracy: 0.8771\n",
            "Epoch 10/10\n",
            "938/938 [==============================] - 1s 1ms/step - loss: 0.2346 - accuracy: 0.9111 - val_loss: 0.3332 - val_accuracy: 0.8837\n",
            "Tiempo de entrenamiento con model_glorot: 10.17799997329712 segundos\n"
          ]
        }
      ],
      "source": [
        "## Tu código y comentarios de texto aquí\n",
        "## Puedes incluir tantas celdas como quieras\n",
        "## No olvides utilizar celdas de Markdown para texto\n",
        "from tensorflow.keras.initializers import Zeros, RandomNormal, GlorotUniform\n",
        "import time\n",
        "\n",
        "\n",
        "def build_model(initializer):\n",
        "    model = Sequential([\n",
        "        Flatten(input_shape=(28, 28)),\n",
        "        Dense(128, activation='relu', kernel_initializer=initializer),\n",
        "        Dense(128, activation='relu', kernel_initializer=initializer),\n",
        "        Dense(128, activation='relu', kernel_initializer=initializer),\n",
        "        Dense(10, activation='softmax', kernel_initializer=initializer)\n",
        "    ])\n",
        "    model.compile(optimizer='adam',\n",
        "                  loss='sparse_categorical_crossentropy',\n",
        "                  metrics=['accuracy'])\n",
        "    return model\n",
        "\n",
        "# Inicialización con ceros\n",
        "model_zeros = build_model(Zeros())\n",
        "\n",
        "# Inicialización aleatoria normal\n",
        "model_normal = build_model(RandomNormal(mean=0.0, stddev=0.05))\n",
        "\n",
        "# Inicialización Glorot Uniforme\n",
        "model_glorot = build_model(GlorotUniform())\n",
        "\n",
        "# Asumiendo que x_train, y_train están predefinidos y preprocesados\n",
        "start_time = time.time()\n",
        "model_zeros.fit(\n",
        "    training_images,\n",
        "    training_labels,\n",
        "    epochs=10,\n",
        "    batch_size=64,\n",
        "    validation_data=(test_images,test_labels))\n",
        "end_time = time.time()\n",
        "print(f\"Tiempo de entrenamiento con model_zeros: {end_time - start_time} segundos\")\n",
        "\n",
        "\n",
        "start_time = time.time()\n",
        "model_normal.fit(\n",
        "    training_images,\n",
        "    training_labels,\n",
        "    epochs=10,\n",
        "    batch_size=64,\n",
        "    validation_data=(test_images,test_labels))\n",
        "end_time = time.time()\n",
        "print(f\"Tiempo de entrenamiento con model_normal: {end_time - start_time} segundos\")\n",
        "\n",
        "start_time = time.time()\n",
        "model_glorot.fit(\n",
        "    training_images,\n",
        "    training_labels,\n",
        "    epochs=10,\n",
        "    batch_size=64,\n",
        "    validation_data=(test_images,test_labels))\n",
        "end_time = time.time()\n",
        "print(f\"Tiempo de entrenamiento con model_glorot: {end_time - start_time} segundos\")"
      ]
    },
    {
      "cell_type": "markdown",
      "metadata": {},
      "source": [
        "1.  Inicialización con Ceros: Si bien tuvo un buen tiempo de entrenamiento el rendimiento fue muy bajo, observamos una accuracy constante y bajo, lo que nos dice que no esta aprendiendo nada. Es decir, al ser el acurracy y la función de perdida constante significa, que el gradiente no esta fluyendo y todos los pesos permanecen en cero.\n",
        "\n",
        "2. Inicialización con una Variable Aleatoria Normal: Al iniciar los pesos con variable aleatoria normal, observamos que la precisión es del 90% para el conjunto de entrenamiento, lo que nos esta diciendo que el modelo aprende de manera adecuada, por lo que el resulado en terminos generales es bueno.\n",
        "\n",
        "3. Inicialización Glorot Uniforme:  Al igual que la inicialización anterior, observamos que el rendimiento del modelo es bastante bueno superando levemente a la inicialización normal aleatoria. Aun que en terminos de tiempo fue más lenta que las dos anteriores.\n",
        "\n"
      ]
    },
    {
      "cell_type": "markdown",
      "metadata": {
        "id": "NqIAyVWrTFqV"
      },
      "source": [
        "## 11. Optimizadores"
      ]
    },
    {
      "cell_type": "markdown",
      "metadata": {
        "id": "lcYj29hYTFqW"
      },
      "source": [
        "**Ejercicio 11 *(0.75 puntos)***: Partiendo de una red similar a la del ejercicio anterior (utilizando la mejor estrategia de inicialización observada), comparar y analizar las diferencias que se observan  al entrenar con varios de los optimizadores vistos en clase, incluyendo SGD como optimizador básico (se puede explorar el espacio de hiperparámetros de cada optimizador, aunque para optimizadores más avanzados del estilo de adam y RMSprop es buena idea dejar los valores por defecto provistos por Keras)."
      ]
    },
    {
      "cell_type": "code",
      "execution_count": null,
      "metadata": {
        "id": "0fWDiqXvTFqW"
      },
      "outputs": [
        {
          "name": "stdout",
          "output_type": "stream",
          "text": [
            "Training with SGD\n",
            "Epoch 1/10\n",
            "938/938 [==============================] - 1s 925us/step - loss: 0.9435 - accuracy: 0.6937 - val_loss: 0.6169 - val_accuracy: 0.7904\n",
            "Epoch 2/10\n",
            "938/938 [==============================] - 1s 800us/step - loss: 0.5541 - accuracy: 0.8080 - val_loss: 0.6663 - val_accuracy: 0.7642\n",
            "Epoch 3/10\n",
            "938/938 [==============================] - 1s 795us/step - loss: 0.4922 - accuracy: 0.8284 - val_loss: 0.5388 - val_accuracy: 0.7987\n",
            "Epoch 4/10\n",
            "938/938 [==============================] - 1s 856us/step - loss: 0.4587 - accuracy: 0.8385 - val_loss: 0.4939 - val_accuracy: 0.8231\n",
            "Epoch 5/10\n",
            "938/938 [==============================] - 1s 818us/step - loss: 0.4361 - accuracy: 0.8473 - val_loss: 0.4783 - val_accuracy: 0.8241\n",
            "Epoch 6/10\n",
            "938/938 [==============================] - 1s 820us/step - loss: 0.4206 - accuracy: 0.8528 - val_loss: 0.4472 - val_accuracy: 0.8426\n",
            "Epoch 7/10\n",
            "938/938 [==============================] - 1s 823us/step - loss: 0.4053 - accuracy: 0.8572 - val_loss: 0.4355 - val_accuracy: 0.8443\n",
            "Epoch 8/10\n",
            "938/938 [==============================] - 1s 815us/step - loss: 0.3942 - accuracy: 0.8624 - val_loss: 0.4264 - val_accuracy: 0.8503\n",
            "Epoch 9/10\n",
            "938/938 [==============================] - 1s 793us/step - loss: 0.3831 - accuracy: 0.8658 - val_loss: 0.4349 - val_accuracy: 0.8470\n",
            "Epoch 10/10\n",
            "938/938 [==============================] - 1s 837us/step - loss: 0.3746 - accuracy: 0.8676 - val_loss: 0.4472 - val_accuracy: 0.8405\n",
            "Training with Adam\n",
            "Epoch 1/10\n",
            "938/938 [==============================] - 1s 1ms/step - loss: 0.5022 - accuracy: 0.8202 - val_loss: 0.4473 - val_accuracy: 0.8379\n",
            "Epoch 2/10\n",
            "938/938 [==============================] - 1s 935us/step - loss: 0.3694 - accuracy: 0.8638 - val_loss: 0.4061 - val_accuracy: 0.8522\n",
            "Epoch 3/10\n",
            "938/938 [==============================] - 1s 944us/step - loss: 0.3329 - accuracy: 0.8769 - val_loss: 0.3860 - val_accuracy: 0.8646\n",
            "Epoch 4/10\n",
            "938/938 [==============================] - 1s 895us/step - loss: 0.3099 - accuracy: 0.8844 - val_loss: 0.3476 - val_accuracy: 0.8744\n",
            "Epoch 5/10\n",
            "938/938 [==============================] - 1s 871us/step - loss: 0.2965 - accuracy: 0.8886 - val_loss: 0.3540 - val_accuracy: 0.8727\n",
            "Epoch 6/10\n",
            "938/938 [==============================] - 1s 896us/step - loss: 0.2780 - accuracy: 0.8942 - val_loss: 0.3484 - val_accuracy: 0.8748\n",
            "Epoch 7/10\n",
            "938/938 [==============================] - 1s 894us/step - loss: 0.2660 - accuracy: 0.9002 - val_loss: 0.3447 - val_accuracy: 0.8744\n",
            "Epoch 8/10\n",
            "938/938 [==============================] - 1s 923us/step - loss: 0.2561 - accuracy: 0.9030 - val_loss: 0.3618 - val_accuracy: 0.8748\n",
            "Epoch 9/10\n",
            "938/938 [==============================] - 1s 878us/step - loss: 0.2473 - accuracy: 0.9065 - val_loss: 0.3284 - val_accuracy: 0.8832\n",
            "Epoch 10/10\n",
            "938/938 [==============================] - 1s 869us/step - loss: 0.2388 - accuracy: 0.9092 - val_loss: 0.3482 - val_accuracy: 0.8772\n",
            "Training with RMSprop\n",
            "Epoch 1/10\n",
            "938/938 [==============================] - 1s 1ms/step - loss: 0.5239 - accuracy: 0.8085 - val_loss: 0.4550 - val_accuracy: 0.8322\n",
            "Epoch 2/10\n",
            "938/938 [==============================] - 1s 1ms/step - loss: 0.3764 - accuracy: 0.8609 - val_loss: 0.4196 - val_accuracy: 0.8495\n",
            "Epoch 3/10\n",
            "938/938 [==============================] - 1s 1ms/step - loss: 0.3419 - accuracy: 0.8755 - val_loss: 0.3914 - val_accuracy: 0.8654\n",
            "Epoch 4/10\n",
            "938/938 [==============================] - 1s 1000us/step - loss: 0.3233 - accuracy: 0.8823 - val_loss: 0.4373 - val_accuracy: 0.8543\n",
            "Epoch 5/10\n",
            "938/938 [==============================] - 1s 977us/step - loss: 0.3096 - accuracy: 0.8883 - val_loss: 0.3752 - val_accuracy: 0.8706\n",
            "Epoch 6/10\n",
            "938/938 [==============================] - 1s 1ms/step - loss: 0.3014 - accuracy: 0.8912 - val_loss: 0.4492 - val_accuracy: 0.8574\n",
            "Epoch 7/10\n",
            "938/938 [==============================] - 1s 1ms/step - loss: 0.2964 - accuracy: 0.8936 - val_loss: 0.4426 - val_accuracy: 0.8497\n",
            "Epoch 8/10\n",
            "938/938 [==============================] - 1s 1ms/step - loss: 0.2924 - accuracy: 0.8956 - val_loss: 0.3783 - val_accuracy: 0.8719\n",
            "Epoch 9/10\n",
            "938/938 [==============================] - 1s 1ms/step - loss: 0.2883 - accuracy: 0.8952 - val_loss: 0.4140 - val_accuracy: 0.8629\n",
            "Epoch 10/10\n",
            "938/938 [==============================] - 1s 1ms/step - loss: 0.2855 - accuracy: 0.8972 - val_loss: 0.4319 - val_accuracy: 0.8748\n"
          ]
        }
      ],
      "source": [
        "## Tu código y comentarios de texto aquí\n",
        "## Puedes incluir tantas celdas como quieras\n",
        "## No olvides utilizar celdas de Markdown para texto\n",
        "from tensorflow.keras.initializers import GlorotUniform \n",
        "def build_model(optimizer):\n",
        "    model = Sequential([\n",
        "        Flatten(input_shape=(28, 28)),\n",
        "        Dense(128, activation='relu', kernel_initializer=GlorotUniform()),\n",
        "        Dense(128, activation='relu', kernel_initializer=GlorotUniform()),\n",
        "        Dense(128, activation='relu', kernel_initializer=GlorotUniform()),\n",
        "        Dense(10, activation='softmax', kernel_initializer=GlorotUniform())\n",
        "    ])\n",
        "    model.compile(optimizer=optimizer,\n",
        "                  loss='sparse_categorical_crossentropy',\n",
        "                  metrics=['accuracy'])\n",
        "    return model\n",
        "# Definir optimizadores\n",
        "optimizers = {\n",
        "    'SGD': tf.keras.optimizers.legacy.SGD(),\n",
        "    'Adam': tf.keras.optimizers.legacy.Adam(),\n",
        "    'RMSprop': tf.keras.optimizers.legacy.RMSprop()\n",
        "}\n",
        "\n",
        "# Entrenamiento y evaluación\n",
        "history = {}\n",
        "for name, opt in optimizers.items():\n",
        "    print(f\"Training with {name}\")\n",
        "    model = build_model(opt)\n",
        "    history[name] = model.fit(training_images, training_labels,\n",
        "                              epochs=10,\n",
        "                              batch_size=64,\n",
        "                              validation_data=(test_images, test_labels))\n",
        "\n"
      ]
    },
    {
      "cell_type": "markdown",
      "metadata": {},
      "source": [
        "1. SGD (Stochastic Gradient Descent): Se obvserva una buena precisión junto con la perdida, pero la la última epoca hay un ligero aumento en la pérdida. Pero en terminos generales es un buen optimizador robusto y confiable. \n",
        "\n",
        "2. Adam: Podemos observar que en menos epocas logra una mejora importante en la precisión y perdida, que SGD. Adam parece ser mejor que SGD ya que logra el mismo resultado en mucha menos epocas, lo cual es clave en procesos de entrenamiento.\n",
        "\n",
        "3. RMSprop: En terminos de velocidad, es muy similar a los valores observados en Adam, aunque se ve fluctuaciones en la pérdida de validación, esto puede ser sobreajuste. RMSprop puede es efectivo, pero para este caso en particular ADAM muestra mejores resultados."
      ]
    },
    {
      "cell_type": "markdown",
      "metadata": {
        "id": "BkfTFoJOTFqZ"
      },
      "source": [
        "## 12. Regularización y red final *(1.25 puntos)*"
      ]
    },
    {
      "cell_type": "markdown",
      "metadata": {
        "id": "f6CQhK7ZTFqZ"
      },
      "source": [
        "**Ejercicio 12 *(1 punto)***: Entrenar una red final que sea capaz de obtener una accuracy en el validation set cercana al 90%. Para ello, combinar todo lo aprendido anteriormente y utilizar técnicas de regularización para evitar overfitting. Algunos de los elementos que pueden tenerse en cuenta son los siguientes.\n",
        "\n",
        "* Número de capas y neuronas por capa\n",
        "* Optimizadores y sus parámetros\n",
        "* Batch size\n",
        "* Unidades de activación\n",
        "* Uso de capas dropout, regularización L2, regularización L1...\n",
        "* Early stopping (se puede aplicar como un callback de Keras, o se puede ver un poco \"a ojo\" cuándo el modelo empieza a caer en overfitting y seleccionar el número de epochs necesarias)\n",
        "* Batch normalization\n",
        "\n",
        "Si los modelos entrenados anteriormente ya se acercaban al valor requerido de accuracy, probar distintas estrategias igualmente y comentar los resultados.\n",
        "\n",
        "Explicar brevemente la estrategia seguida y los modelos probados para obtener el modelo final, que debe verse entrenado en este Notebook. No es necesario guardar el entrenamiento de todos los modelos que se han probado, es suficiente con explicar cómo se ha llegado al modelo final."
      ]
    },
    {
      "cell_type": "code",
      "execution_count": 68,
      "metadata": {
        "id": "AUJ5AtunTFqa"
      },
      "outputs": [
        {
          "name": "stdout",
          "output_type": "stream",
          "text": [
            "Epoch 1/20\n",
            "938/938 [==============================] - 2s 2ms/step - loss: 0.4865 - accuracy: 0.8230 - val_loss: 0.4285 - val_accuracy: 0.8468\n",
            "Epoch 2/20\n",
            "938/938 [==============================] - 2s 2ms/step - loss: 0.3596 - accuracy: 0.8678 - val_loss: 0.3653 - val_accuracy: 0.8660\n",
            "Epoch 3/20\n",
            "938/938 [==============================] - 2s 2ms/step - loss: 0.3236 - accuracy: 0.8796 - val_loss: 0.3581 - val_accuracy: 0.8705\n",
            "Epoch 4/20\n",
            "938/938 [==============================] - 2s 2ms/step - loss: 0.2982 - accuracy: 0.8875 - val_loss: 0.3676 - val_accuracy: 0.8661\n",
            "Epoch 5/20\n",
            "938/938 [==============================] - 2s 2ms/step - loss: 0.2825 - accuracy: 0.8943 - val_loss: 0.3423 - val_accuracy: 0.8766\n",
            "Epoch 6/20\n",
            "938/938 [==============================] - 1s 2ms/step - loss: 0.2676 - accuracy: 0.8986 - val_loss: 0.3377 - val_accuracy: 0.8791\n",
            "Epoch 7/20\n",
            "938/938 [==============================] - 2s 2ms/step - loss: 0.2565 - accuracy: 0.9026 - val_loss: 0.3348 - val_accuracy: 0.8818\n",
            "Epoch 8/20\n",
            "938/938 [==============================] - 2s 2ms/step - loss: 0.2442 - accuracy: 0.9062 - val_loss: 0.3418 - val_accuracy: 0.8784\n",
            "Epoch 9/20\n",
            "938/938 [==============================] - 1s 2ms/step - loss: 0.2339 - accuracy: 0.9101 - val_loss: 0.3202 - val_accuracy: 0.8805\n",
            "Epoch 10/20\n",
            "938/938 [==============================] - 2s 2ms/step - loss: 0.2255 - accuracy: 0.9146 - val_loss: 0.3369 - val_accuracy: 0.8825\n",
            "Epoch 11/20\n",
            "938/938 [==============================] - 2s 2ms/step - loss: 0.2170 - accuracy: 0.9172 - val_loss: 0.3492 - val_accuracy: 0.8806\n",
            "Epoch 12/20\n",
            "938/938 [==============================] - 2s 2ms/step - loss: 0.2078 - accuracy: 0.9201 - val_loss: 0.3553 - val_accuracy: 0.8826\n",
            "Epoch 13/20\n",
            "938/938 [==============================] - 1s 2ms/step - loss: 0.1976 - accuracy: 0.9241 - val_loss: 0.3595 - val_accuracy: 0.8813\n",
            "Epoch 14/20\n",
            "938/938 [==============================] - 2s 2ms/step - loss: 0.1900 - accuracy: 0.9268 - val_loss: 0.3505 - val_accuracy: 0.8845\n",
            "Epoch 15/20\n",
            "938/938 [==============================] - 2s 2ms/step - loss: 0.1841 - accuracy: 0.9290 - val_loss: 0.3654 - val_accuracy: 0.8851\n",
            "Epoch 16/20\n",
            "938/938 [==============================] - 2s 2ms/step - loss: 0.1775 - accuracy: 0.9313 - val_loss: 0.3597 - val_accuracy: 0.8831\n",
            "Epoch 17/20\n",
            "937/938 [============================>.] - ETA: 0s - loss: 0.1733 - accuracy: 0.9324\n",
            "Alcanzado el 85% de precisión, se cancela el entrenamiento!!\n",
            "938/938 [==============================] - 1s 2ms/step - loss: 0.1733 - accuracy: 0.9324 - val_loss: 0.3688 - val_accuracy: 0.8916\n"
          ]
        }
      ],
      "source": [
        "## Tu modelo y comentarios de texto aquí\n",
        "## Puedes incluir tantas celdas como quieras\n",
        "## No olvides utilizar celdas de Markdown para texto\n",
        "from tensorflow.keras.layers import Dense, Flatten, Dropout, BatchNormalization\n",
        "from tensorflow.keras.initializers import GlorotUniform \n",
        "\n",
        "class myCallback(tf.keras.callbacks.Callback):\n",
        "      def on_epoch_end(self, epoch, logs={}):\n",
        "        if(logs.get('val_accuracy') > 0.89):\n",
        "              print(\"\\nAlcanzado el 85% de precisión, se cancela el entrenamiento!!\")\n",
        "              self.model.stop_training = True\n",
        "\n",
        "modelFinal = Sequential([\n",
        "    Flatten(input_shape=(28, 28)),\n",
        "    Dense(128, activation='relu', kernel_initializer=GlorotUniform()),\n",
        "    Dense(256, activation='relu', kernel_initializer=GlorotUniform()),\n",
        "    Dense(512, activation='relu', kernel_initializer=GlorotUniform()),\n",
        "    Dense(10, activation=\"softmax\", kernel_initializer=GlorotUniform())\n",
        "    ])\n",
        "modelFinal.compile(\n",
        "    optimizer=\"adam\",\n",
        "    loss=\"sparse_categorical_crossentropy\",\n",
        "    metrics=['accuracy']\n",
        ")\n",
        "callbacks = myCallback()\n",
        "history = modelFinal.fit(\n",
        "    training_images,\n",
        "    training_labels,\n",
        "    epochs=20,\n",
        "    batch_size=64,\n",
        "    validation_data=(test_images,test_labels),\n",
        "    callbacks=[callbacks]\n",
        ")"
      ]
    },
    {
      "cell_type": "markdown",
      "metadata": {},
      "source": []
    }
  ],
  "metadata": {
    "colab": {
      "name": "Actividad 1: Redes Neuronales.ipynb",
      "provenance": []
    },
    "kernelspec": {
      "display_name": "Python 3",
      "name": "python3"
    },
    "language_info": {
      "codemirror_mode": {
        "name": "ipython",
        "version": 3
      },
      "file_extension": ".py",
      "mimetype": "text/x-python",
      "name": "python",
      "nbconvert_exporter": "python",
      "pygments_lexer": "ipython3",
      "version": "3.11.4"
    }
  },
  "nbformat": 4,
  "nbformat_minor": 0
}
